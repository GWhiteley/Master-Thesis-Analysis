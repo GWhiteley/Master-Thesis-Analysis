{
 "cells": [
  {
   "cell_type": "code",
   "execution_count": 1,
   "id": "99b2be93-17b0-4c58-9889-b93e466b4084",
   "metadata": {},
   "outputs": [],
   "source": [
    "import pandas as pd\n",
    "import numpy as np\n",
    "import plotly as plt\n",
    "import re\n",
    "import plotly.express as px\n",
    "import statistics\n",
    "import scipy.stats as st\n",
    "\n",
    "import plotly.io as pio\n",
    "import plotly.graph_objects as go\n",
    "from textblob import TextBlob\n"
   ]
  },
  {
   "cell_type": "code",
   "execution_count": 2,
   "id": "6e0c95c2-d593-4dd7-86b0-43f809551c00",
   "metadata": {},
   "outputs": [],
   "source": [
    "def snake_case(s):\n",
    "  return '_'.join(\n",
    "    re.sub('([A-Z][a-z]+)', r' \\1',\n",
    "    re.sub('([A-Z]+)', r' \\1',\n",
    "    s.replace('-', ' '))).split()).lower()"
   ]
  },
  {
   "cell_type": "code",
   "execution_count": 3,
   "id": "dd8fed4a-2bec-4c29-927d-0413db2beb69",
   "metadata": {},
   "outputs": [],
   "source": [
    "q_raw_results = pd.ExcelFile('results/results.xlsx')"
   ]
  },
  {
   "cell_type": "code",
   "execution_count": 4,
   "id": "a125baa8-89e5-4a56-8ac7-bf7336e3f311",
   "metadata": {},
   "outputs": [
    {
     "data": {
      "text/html": [
       "<div>\n",
       "<style scoped>\n",
       "    .dataframe tbody tr th:only-of-type {\n",
       "        vertical-align: middle;\n",
       "    }\n",
       "\n",
       "    .dataframe tbody tr th {\n",
       "        vertical-align: top;\n",
       "    }\n",
       "\n",
       "    .dataframe thead th {\n",
       "        text-align: right;\n",
       "    }\n",
       "</style>\n",
       "<table border=\"1\" class=\"dataframe\">\n",
       "  <thead>\n",
       "    <tr style=\"text-align: right;\">\n",
       "      <th></th>\n",
       "      <th>question_id</th>\n",
       "      <th>questionnaire_id</th>\n",
       "      <th>keyword</th>\n",
       "      <th>question</th>\n",
       "      <th>generated_by</th>\n",
       "    </tr>\n",
       "  </thead>\n",
       "  <tbody>\n",
       "    <tr>\n",
       "      <th>0</th>\n",
       "      <td>778</td>\n",
       "      <td>1</td>\n",
       "      <td>Brexit</td>\n",
       "      <td>Do you agree with the Brexit result?</td>\n",
       "      <td>human</td>\n",
       "    </tr>\n",
       "    <tr>\n",
       "      <th>1</th>\n",
       "      <td>620</td>\n",
       "      <td>1</td>\n",
       "      <td>Exams</td>\n",
       "      <td>Are you in favor of exams starting at a specif...</td>\n",
       "      <td>gpt3</td>\n",
       "    </tr>\n",
       "    <tr>\n",
       "      <th>2</th>\n",
       "      <td>845</td>\n",
       "      <td>1</td>\n",
       "      <td>Premier league</td>\n",
       "      <td>Who do you think will win the Premier League t...</td>\n",
       "      <td>human</td>\n",
       "    </tr>\n",
       "    <tr>\n",
       "      <th>3</th>\n",
       "      <td>87</td>\n",
       "      <td>1</td>\n",
       "      <td>Womens football</td>\n",
       "      <td>Do you think that women's football is a sport ...</td>\n",
       "      <td>gpt3</td>\n",
       "    </tr>\n",
       "    <tr>\n",
       "      <th>4</th>\n",
       "      <td>178</td>\n",
       "      <td>1</td>\n",
       "      <td>Kanye West</td>\n",
       "      <td>What is your opinion on Kanye West?</td>\n",
       "      <td>gpt3</td>\n",
       "    </tr>\n",
       "    <tr>\n",
       "      <th>...</th>\n",
       "      <td>...</td>\n",
       "      <td>...</td>\n",
       "      <td>...</td>\n",
       "      <td>...</td>\n",
       "      <td>...</td>\n",
       "    </tr>\n",
       "    <tr>\n",
       "      <th>295</th>\n",
       "      <td>163</td>\n",
       "      <td>10</td>\n",
       "      <td>Ghosts</td>\n",
       "      <td>Do you believe in ghosts?</td>\n",
       "      <td>gpt3</td>\n",
       "    </tr>\n",
       "    <tr>\n",
       "      <th>296</th>\n",
       "      <td>68</td>\n",
       "      <td>10</td>\n",
       "      <td>Exams</td>\n",
       "      <td>What is your opinion on exams?</td>\n",
       "      <td>gpt3</td>\n",
       "    </tr>\n",
       "    <tr>\n",
       "      <th>297</th>\n",
       "      <td>684</td>\n",
       "      <td>10</td>\n",
       "      <td>Influencers</td>\n",
       "      <td>Is influencer a real job?</td>\n",
       "      <td>human</td>\n",
       "    </tr>\n",
       "    <tr>\n",
       "      <th>298</th>\n",
       "      <td>737</td>\n",
       "      <td>10</td>\n",
       "      <td>Batgirl</td>\n",
       "      <td>Did you ever see a Batgirl comic?</td>\n",
       "      <td>human</td>\n",
       "    </tr>\n",
       "    <tr>\n",
       "      <th>299</th>\n",
       "      <td>243</td>\n",
       "      <td>10</td>\n",
       "      <td>Dating apps</td>\n",
       "      <td>Do you think dating apps are a good way to mee...</td>\n",
       "      <td>gpt3</td>\n",
       "    </tr>\n",
       "  </tbody>\n",
       "</table>\n",
       "<p>300 rows × 5 columns</p>\n",
       "</div>"
      ],
      "text/plain": [
       "     question_id  questionnaire_id          keyword  \\\n",
       "0            778                 1           Brexit   \n",
       "1            620                 1            Exams   \n",
       "2            845                 1   Premier league   \n",
       "3             87                 1  Womens football   \n",
       "4            178                 1       Kanye West   \n",
       "..           ...               ...              ...   \n",
       "295          163                10           Ghosts   \n",
       "296           68                10            Exams   \n",
       "297          684                10      Influencers   \n",
       "298          737                10          Batgirl   \n",
       "299          243                10      Dating apps   \n",
       "\n",
       "                                              question generated_by  \n",
       "0                 Do you agree with the Brexit result?        human  \n",
       "1    Are you in favor of exams starting at a specif...         gpt3  \n",
       "2    Who do you think will win the Premier League t...        human  \n",
       "3    Do you think that women's football is a sport ...         gpt3  \n",
       "4                  What is your opinion on Kanye West?         gpt3  \n",
       "..                                                 ...          ...  \n",
       "295                          Do you believe in ghosts?         gpt3  \n",
       "296                     What is your opinion on exams?         gpt3  \n",
       "297                          Is influencer a real job?        human  \n",
       "298                  Did you ever see a Batgirl comic?        human  \n",
       "299  Do you think dating apps are a good way to mee...         gpt3  \n",
       "\n",
       "[300 rows x 5 columns]"
      ]
     },
     "execution_count": 4,
     "metadata": {},
     "output_type": "execute_result"
    }
   ],
   "source": [
    "q_file = pd.read_excel('results/questionnaires.xlsx')\n",
    "q_file"
   ]
  },
  {
   "cell_type": "code",
   "execution_count": 5,
   "id": "5392a21a-50c2-4a29-9a61-b9c52263358d",
   "metadata": {},
   "outputs": [
    {
     "data": {
      "text/html": [
       "<div>\n",
       "<style scoped>\n",
       "    .dataframe tbody tr th:only-of-type {\n",
       "        vertical-align: middle;\n",
       "    }\n",
       "\n",
       "    .dataframe tbody tr th {\n",
       "        vertical-align: top;\n",
       "    }\n",
       "\n",
       "    .dataframe thead th {\n",
       "        text-align: right;\n",
       "    }\n",
       "</style>\n",
       "<table border=\"1\" class=\"dataframe\">\n",
       "  <thead>\n",
       "    <tr style=\"text-align: right;\">\n",
       "      <th></th>\n",
       "      <th>response</th>\n",
       "      <th>question</th>\n",
       "      <th>respondant_id</th>\n",
       "      <th>questionnaire_id</th>\n",
       "    </tr>\n",
       "  </thead>\n",
       "  <tbody>\n",
       "    <tr>\n",
       "      <th>0</th>\n",
       "      <td>human</td>\n",
       "      <td>Do you agree with the Brexit result?</td>\n",
       "      <td>1</td>\n",
       "      <td>1</td>\n",
       "    </tr>\n",
       "    <tr>\n",
       "      <th>1</th>\n",
       "      <td>human</td>\n",
       "      <td>Are you in favor of exams starting at a specif...</td>\n",
       "      <td>1</td>\n",
       "      <td>1</td>\n",
       "    </tr>\n",
       "    <tr>\n",
       "      <th>2</th>\n",
       "      <td>human</td>\n",
       "      <td>Who do you think will win the Premier League t...</td>\n",
       "      <td>1</td>\n",
       "      <td>1</td>\n",
       "    </tr>\n",
       "    <tr>\n",
       "      <th>3</th>\n",
       "      <td>gpt3</td>\n",
       "      <td>Do you think that women's football is a sport ...</td>\n",
       "      <td>1</td>\n",
       "      <td>1</td>\n",
       "    </tr>\n",
       "    <tr>\n",
       "      <th>4</th>\n",
       "      <td>gpt3</td>\n",
       "      <td>What is your opinion on Kanye West?</td>\n",
       "      <td>1</td>\n",
       "      <td>1</td>\n",
       "    </tr>\n",
       "    <tr>\n",
       "      <th>...</th>\n",
       "      <td>...</td>\n",
       "      <td>...</td>\n",
       "      <td>...</td>\n",
       "      <td>...</td>\n",
       "    </tr>\n",
       "    <tr>\n",
       "      <th>627</th>\n",
       "      <td>gpt3</td>\n",
       "      <td>Do you believe in ghosts?</td>\n",
       "      <td>21</td>\n",
       "      <td>10</td>\n",
       "    </tr>\n",
       "    <tr>\n",
       "      <th>628</th>\n",
       "      <td>gpt3</td>\n",
       "      <td>What is your opinion on exams?</td>\n",
       "      <td>21</td>\n",
       "      <td>10</td>\n",
       "    </tr>\n",
       "    <tr>\n",
       "      <th>629</th>\n",
       "      <td>human</td>\n",
       "      <td>Is influencer a real job?</td>\n",
       "      <td>21</td>\n",
       "      <td>10</td>\n",
       "    </tr>\n",
       "    <tr>\n",
       "      <th>630</th>\n",
       "      <td>gpt3</td>\n",
       "      <td>Did you ever see a Batgirl comic?</td>\n",
       "      <td>21</td>\n",
       "      <td>10</td>\n",
       "    </tr>\n",
       "    <tr>\n",
       "      <th>631</th>\n",
       "      <td>gpt3</td>\n",
       "      <td>Do you think dating apps are a good way to mee...</td>\n",
       "      <td>21</td>\n",
       "      <td>10</td>\n",
       "    </tr>\n",
       "  </tbody>\n",
       "</table>\n",
       "<p>632 rows × 4 columns</p>\n",
       "</div>"
      ],
      "text/plain": [
       "    response                                           question  \\\n",
       "0      human               Do you agree with the Brexit result?   \n",
       "1      human  Are you in favor of exams starting at a specif...   \n",
       "2      human  Who do you think will win the Premier League t...   \n",
       "3       gpt3  Do you think that women's football is a sport ...   \n",
       "4       gpt3                What is your opinion on Kanye West?   \n",
       "..       ...                                                ...   \n",
       "627     gpt3                          Do you believe in ghosts?   \n",
       "628     gpt3                     What is your opinion on exams?   \n",
       "629    human                          Is influencer a real job?   \n",
       "630     gpt3                  Did you ever see a Batgirl comic?   \n",
       "631     gpt3  Do you think dating apps are a good way to mee...   \n",
       "\n",
       "     respondant_id  questionnaire_id  \n",
       "0                1                 1  \n",
       "1                1                 1  \n",
       "2                1                 1  \n",
       "3                1                 1  \n",
       "4                1                 1  \n",
       "..             ...               ...  \n",
       "627             21                10  \n",
       "628             21                10  \n",
       "629             21                10  \n",
       "630             21                10  \n",
       "631             21                10  \n",
       "\n",
       "[632 rows x 4 columns]"
      ]
     },
     "execution_count": 5,
     "metadata": {},
     "output_type": "execute_result"
    }
   ],
   "source": [
    "num_respondants = 0\n",
    "q_full_results = pd.DataFrame()\n",
    "q_meta_responses = pd.DataFrame()\n",
    "\n",
    "for sheet_name in q_raw_results.sheet_names:\n",
    "    q_id = int(re.search(r'form_responses_(\\d+)', snake_case(sheet_name)).group(1))\n",
    "    \n",
    "    df = q_raw_results.parse(sheet_name)\n",
    "    df.columns = df.columns.str.strip()\n",
    "    df = df.drop(['Timestamp', 'Score'], axis=1)\n",
    "    df  = df.T\n",
    "    df.index.name = 'question'\n",
    "    df = df.reset_index()\n",
    "        \n",
    "    responses = df.columns.values.tolist()\n",
    "    responses.remove('question')\n",
    "    response_df = pd.DataFrame()\n",
    "\n",
    "    for response_value in responses:\n",
    "        num_respondants += 1\n",
    "        new = pd.DataFrame()\n",
    "\n",
    "        new['response'] = df[response_value].map(lambda x: 'human' if x == 'Human' else ('gpt3' if x == 'Computer' else (x.lower() if isinstance(x, str) else x)))\n",
    "        new['question'] = df['question']\n",
    "        new['respondant_id'] = num_respondants\n",
    "        new['questionnaire_id'] = q_id\n",
    "        \n",
    "        response_df = pd.concat([response_df, new]).reset_index(drop=True)\n",
    "        \n",
    "    if not response_df.empty:\n",
    "        q_meta_df = response_df.query('question == \"Have you heard of GPT-3 before?\" | question == \"Please rate your understanding of how language models, such as GPT-3 work?\"')\n",
    "        response_df = response_df[~response_df.isin(q_meta_df)].dropna(how = 'all')\n",
    "        response_df['respondant_id'] = response_df['respondant_id'].astype('int32')\n",
    "        response_df['questionnaire_id'] = response_df['questionnaire_id'].astype('int32')\n",
    "        \n",
    "        q_meta_responses = pd.concat([q_meta_responses, q_meta_df]).reset_index(drop=True)\n",
    "        q_full_results = pd.concat([q_full_results, response_df]).reset_index(drop=True)\n",
    "\n",
    "q_raw_results.close()\n",
    "q_full_results"
   ]
  },
  {
   "cell_type": "code",
   "execution_count": 6,
   "id": "df284dae-b975-427c-a9bf-7505c5e17eae",
   "metadata": {},
   "outputs": [
    {
     "data": {
      "text/html": [
       "<div>\n",
       "<style scoped>\n",
       "    .dataframe tbody tr th:only-of-type {\n",
       "        vertical-align: middle;\n",
       "    }\n",
       "\n",
       "    .dataframe tbody tr th {\n",
       "        vertical-align: top;\n",
       "    }\n",
       "\n",
       "    .dataframe thead th {\n",
       "        text-align: right;\n",
       "    }\n",
       "</style>\n",
       "<table border=\"1\" class=\"dataframe\">\n",
       "  <thead>\n",
       "    <tr style=\"text-align: right;\">\n",
       "      <th></th>\n",
       "      <th>response</th>\n",
       "      <th>question</th>\n",
       "      <th>respondant_id</th>\n",
       "      <th>questionnaire_id</th>\n",
       "    </tr>\n",
       "  </thead>\n",
       "  <tbody>\n",
       "    <tr>\n",
       "      <th>0</th>\n",
       "      <td>no</td>\n",
       "      <td>Have you heard of GPT-3 before?</td>\n",
       "      <td>1</td>\n",
       "      <td>1</td>\n",
       "    </tr>\n",
       "    <tr>\n",
       "      <th>1</th>\n",
       "      <td>1</td>\n",
       "      <td>Please rate your understanding of how language...</td>\n",
       "      <td>1</td>\n",
       "      <td>1</td>\n",
       "    </tr>\n",
       "    <tr>\n",
       "      <th>2</th>\n",
       "      <td>no</td>\n",
       "      <td>Have you heard of GPT-3 before?</td>\n",
       "      <td>2</td>\n",
       "      <td>1</td>\n",
       "    </tr>\n",
       "    <tr>\n",
       "      <th>3</th>\n",
       "      <td>1</td>\n",
       "      <td>Please rate your understanding of how language...</td>\n",
       "      <td>2</td>\n",
       "      <td>1</td>\n",
       "    </tr>\n",
       "    <tr>\n",
       "      <th>4</th>\n",
       "      <td>no</td>\n",
       "      <td>Have you heard of GPT-3 before?</td>\n",
       "      <td>3</td>\n",
       "      <td>2</td>\n",
       "    </tr>\n",
       "    <tr>\n",
       "      <th>5</th>\n",
       "      <td>1</td>\n",
       "      <td>Please rate your understanding of how language...</td>\n",
       "      <td>3</td>\n",
       "      <td>2</td>\n",
       "    </tr>\n",
       "    <tr>\n",
       "      <th>6</th>\n",
       "      <td>no</td>\n",
       "      <td>Have you heard of GPT-3 before?</td>\n",
       "      <td>4</td>\n",
       "      <td>2</td>\n",
       "    </tr>\n",
       "    <tr>\n",
       "      <th>7</th>\n",
       "      <td>1</td>\n",
       "      <td>Please rate your understanding of how language...</td>\n",
       "      <td>4</td>\n",
       "      <td>2</td>\n",
       "    </tr>\n",
       "    <tr>\n",
       "      <th>8</th>\n",
       "      <td>yes</td>\n",
       "      <td>Have you heard of GPT-3 before?</td>\n",
       "      <td>5</td>\n",
       "      <td>3</td>\n",
       "    </tr>\n",
       "    <tr>\n",
       "      <th>9</th>\n",
       "      <td>4</td>\n",
       "      <td>Please rate your understanding of how language...</td>\n",
       "      <td>5</td>\n",
       "      <td>3</td>\n",
       "    </tr>\n",
       "    <tr>\n",
       "      <th>10</th>\n",
       "      <td>yes</td>\n",
       "      <td>Have you heard of GPT-3 before?</td>\n",
       "      <td>6</td>\n",
       "      <td>3</td>\n",
       "    </tr>\n",
       "    <tr>\n",
       "      <th>11</th>\n",
       "      <td>5</td>\n",
       "      <td>Please rate your understanding of how language...</td>\n",
       "      <td>6</td>\n",
       "      <td>3</td>\n",
       "    </tr>\n",
       "    <tr>\n",
       "      <th>12</th>\n",
       "      <td>no</td>\n",
       "      <td>Have you heard of GPT-3 before?</td>\n",
       "      <td>7</td>\n",
       "      <td>4</td>\n",
       "    </tr>\n",
       "    <tr>\n",
       "      <th>13</th>\n",
       "      <td>1</td>\n",
       "      <td>Please rate your understanding of how language...</td>\n",
       "      <td>7</td>\n",
       "      <td>4</td>\n",
       "    </tr>\n",
       "    <tr>\n",
       "      <th>14</th>\n",
       "      <td>no</td>\n",
       "      <td>Have you heard of GPT-3 before?</td>\n",
       "      <td>8</td>\n",
       "      <td>5</td>\n",
       "    </tr>\n",
       "    <tr>\n",
       "      <th>15</th>\n",
       "      <td>1</td>\n",
       "      <td>Please rate your understanding of how language...</td>\n",
       "      <td>8</td>\n",
       "      <td>5</td>\n",
       "    </tr>\n",
       "    <tr>\n",
       "      <th>16</th>\n",
       "      <td>yes</td>\n",
       "      <td>Have you heard of GPT-3 before?</td>\n",
       "      <td>9</td>\n",
       "      <td>5</td>\n",
       "    </tr>\n",
       "    <tr>\n",
       "      <th>17</th>\n",
       "      <td>4</td>\n",
       "      <td>Please rate your understanding of how language...</td>\n",
       "      <td>9</td>\n",
       "      <td>5</td>\n",
       "    </tr>\n",
       "    <tr>\n",
       "      <th>18</th>\n",
       "      <td>no</td>\n",
       "      <td>Have you heard of GPT-3 before?</td>\n",
       "      <td>10</td>\n",
       "      <td>6</td>\n",
       "    </tr>\n",
       "    <tr>\n",
       "      <th>19</th>\n",
       "      <td>2</td>\n",
       "      <td>Please rate your understanding of how language...</td>\n",
       "      <td>10</td>\n",
       "      <td>6</td>\n",
       "    </tr>\n",
       "    <tr>\n",
       "      <th>20</th>\n",
       "      <td>no</td>\n",
       "      <td>Have you heard of GPT-3 before?</td>\n",
       "      <td>11</td>\n",
       "      <td>6</td>\n",
       "    </tr>\n",
       "    <tr>\n",
       "      <th>21</th>\n",
       "      <td>1</td>\n",
       "      <td>Please rate your understanding of how language...</td>\n",
       "      <td>11</td>\n",
       "      <td>6</td>\n",
       "    </tr>\n",
       "    <tr>\n",
       "      <th>22</th>\n",
       "      <td>no</td>\n",
       "      <td>Have you heard of GPT-3 before?</td>\n",
       "      <td>12</td>\n",
       "      <td>6</td>\n",
       "    </tr>\n",
       "    <tr>\n",
       "      <th>23</th>\n",
       "      <td>2</td>\n",
       "      <td>Please rate your understanding of how language...</td>\n",
       "      <td>12</td>\n",
       "      <td>6</td>\n",
       "    </tr>\n",
       "    <tr>\n",
       "      <th>24</th>\n",
       "      <td>no</td>\n",
       "      <td>Have you heard of GPT-3 before?</td>\n",
       "      <td>13</td>\n",
       "      <td>6</td>\n",
       "    </tr>\n",
       "    <tr>\n",
       "      <th>25</th>\n",
       "      <td>1</td>\n",
       "      <td>Please rate your understanding of how language...</td>\n",
       "      <td>13</td>\n",
       "      <td>6</td>\n",
       "    </tr>\n",
       "    <tr>\n",
       "      <th>26</th>\n",
       "      <td>no</td>\n",
       "      <td>Have you heard of GPT-3 before?</td>\n",
       "      <td>14</td>\n",
       "      <td>6</td>\n",
       "    </tr>\n",
       "    <tr>\n",
       "      <th>27</th>\n",
       "      <td>1</td>\n",
       "      <td>Please rate your understanding of how language...</td>\n",
       "      <td>14</td>\n",
       "      <td>6</td>\n",
       "    </tr>\n",
       "    <tr>\n",
       "      <th>28</th>\n",
       "      <td>no</td>\n",
       "      <td>Have you heard of GPT-3 before?</td>\n",
       "      <td>15</td>\n",
       "      <td>7</td>\n",
       "    </tr>\n",
       "    <tr>\n",
       "      <th>29</th>\n",
       "      <td>1</td>\n",
       "      <td>Please rate your understanding of how language...</td>\n",
       "      <td>15</td>\n",
       "      <td>7</td>\n",
       "    </tr>\n",
       "    <tr>\n",
       "      <th>30</th>\n",
       "      <td>no</td>\n",
       "      <td>Have you heard of GPT-3 before?</td>\n",
       "      <td>16</td>\n",
       "      <td>8</td>\n",
       "    </tr>\n",
       "    <tr>\n",
       "      <th>31</th>\n",
       "      <td>1</td>\n",
       "      <td>Please rate your understanding of how language...</td>\n",
       "      <td>16</td>\n",
       "      <td>8</td>\n",
       "    </tr>\n",
       "    <tr>\n",
       "      <th>32</th>\n",
       "      <td>no</td>\n",
       "      <td>Have you heard of GPT-3 before?</td>\n",
       "      <td>17</td>\n",
       "      <td>8</td>\n",
       "    </tr>\n",
       "    <tr>\n",
       "      <th>33</th>\n",
       "      <td>1</td>\n",
       "      <td>Please rate your understanding of how language...</td>\n",
       "      <td>17</td>\n",
       "      <td>8</td>\n",
       "    </tr>\n",
       "    <tr>\n",
       "      <th>34</th>\n",
       "      <td>no</td>\n",
       "      <td>Have you heard of GPT-3 before?</td>\n",
       "      <td>18</td>\n",
       "      <td>9</td>\n",
       "    </tr>\n",
       "    <tr>\n",
       "      <th>35</th>\n",
       "      <td>1</td>\n",
       "      <td>Please rate your understanding of how language...</td>\n",
       "      <td>18</td>\n",
       "      <td>9</td>\n",
       "    </tr>\n",
       "    <tr>\n",
       "      <th>36</th>\n",
       "      <td>no</td>\n",
       "      <td>Have you heard of GPT-3 before?</td>\n",
       "      <td>19</td>\n",
       "      <td>9</td>\n",
       "    </tr>\n",
       "    <tr>\n",
       "      <th>37</th>\n",
       "      <td>1</td>\n",
       "      <td>Please rate your understanding of how language...</td>\n",
       "      <td>19</td>\n",
       "      <td>9</td>\n",
       "    </tr>\n",
       "    <tr>\n",
       "      <th>38</th>\n",
       "      <td>no</td>\n",
       "      <td>Have you heard of GPT-3 before?</td>\n",
       "      <td>20</td>\n",
       "      <td>10</td>\n",
       "    </tr>\n",
       "    <tr>\n",
       "      <th>39</th>\n",
       "      <td>1</td>\n",
       "      <td>Please rate your understanding of how language...</td>\n",
       "      <td>20</td>\n",
       "      <td>10</td>\n",
       "    </tr>\n",
       "    <tr>\n",
       "      <th>40</th>\n",
       "      <td>no</td>\n",
       "      <td>Have you heard of GPT-3 before?</td>\n",
       "      <td>21</td>\n",
       "      <td>10</td>\n",
       "    </tr>\n",
       "    <tr>\n",
       "      <th>41</th>\n",
       "      <td>2</td>\n",
       "      <td>Please rate your understanding of how language...</td>\n",
       "      <td>21</td>\n",
       "      <td>10</td>\n",
       "    </tr>\n",
       "  </tbody>\n",
       "</table>\n",
       "</div>"
      ],
      "text/plain": [
       "   response                                           question  respondant_id  \\\n",
       "0        no                    Have you heard of GPT-3 before?              1   \n",
       "1         1  Please rate your understanding of how language...              1   \n",
       "2        no                    Have you heard of GPT-3 before?              2   \n",
       "3         1  Please rate your understanding of how language...              2   \n",
       "4        no                    Have you heard of GPT-3 before?              3   \n",
       "5         1  Please rate your understanding of how language...              3   \n",
       "6        no                    Have you heard of GPT-3 before?              4   \n",
       "7         1  Please rate your understanding of how language...              4   \n",
       "8       yes                    Have you heard of GPT-3 before?              5   \n",
       "9         4  Please rate your understanding of how language...              5   \n",
       "10      yes                    Have you heard of GPT-3 before?              6   \n",
       "11        5  Please rate your understanding of how language...              6   \n",
       "12       no                    Have you heard of GPT-3 before?              7   \n",
       "13        1  Please rate your understanding of how language...              7   \n",
       "14       no                    Have you heard of GPT-3 before?              8   \n",
       "15        1  Please rate your understanding of how language...              8   \n",
       "16      yes                    Have you heard of GPT-3 before?              9   \n",
       "17        4  Please rate your understanding of how language...              9   \n",
       "18       no                    Have you heard of GPT-3 before?             10   \n",
       "19        2  Please rate your understanding of how language...             10   \n",
       "20       no                    Have you heard of GPT-3 before?             11   \n",
       "21        1  Please rate your understanding of how language...             11   \n",
       "22       no                    Have you heard of GPT-3 before?             12   \n",
       "23        2  Please rate your understanding of how language...             12   \n",
       "24       no                    Have you heard of GPT-3 before?             13   \n",
       "25        1  Please rate your understanding of how language...             13   \n",
       "26       no                    Have you heard of GPT-3 before?             14   \n",
       "27        1  Please rate your understanding of how language...             14   \n",
       "28       no                    Have you heard of GPT-3 before?             15   \n",
       "29        1  Please rate your understanding of how language...             15   \n",
       "30       no                    Have you heard of GPT-3 before?             16   \n",
       "31        1  Please rate your understanding of how language...             16   \n",
       "32       no                    Have you heard of GPT-3 before?             17   \n",
       "33        1  Please rate your understanding of how language...             17   \n",
       "34       no                    Have you heard of GPT-3 before?             18   \n",
       "35        1  Please rate your understanding of how language...             18   \n",
       "36       no                    Have you heard of GPT-3 before?             19   \n",
       "37        1  Please rate your understanding of how language...             19   \n",
       "38       no                    Have you heard of GPT-3 before?             20   \n",
       "39        1  Please rate your understanding of how language...             20   \n",
       "40       no                    Have you heard of GPT-3 before?             21   \n",
       "41        2  Please rate your understanding of how language...             21   \n",
       "\n",
       "    questionnaire_id  \n",
       "0                  1  \n",
       "1                  1  \n",
       "2                  1  \n",
       "3                  1  \n",
       "4                  2  \n",
       "5                  2  \n",
       "6                  2  \n",
       "7                  2  \n",
       "8                  3  \n",
       "9                  3  \n",
       "10                 3  \n",
       "11                 3  \n",
       "12                 4  \n",
       "13                 4  \n",
       "14                 5  \n",
       "15                 5  \n",
       "16                 5  \n",
       "17                 5  \n",
       "18                 6  \n",
       "19                 6  \n",
       "20                 6  \n",
       "21                 6  \n",
       "22                 6  \n",
       "23                 6  \n",
       "24                 6  \n",
       "25                 6  \n",
       "26                 6  \n",
       "27                 6  \n",
       "28                 7  \n",
       "29                 7  \n",
       "30                 8  \n",
       "31                 8  \n",
       "32                 8  \n",
       "33                 8  \n",
       "34                 9  \n",
       "35                 9  \n",
       "36                 9  \n",
       "37                 9  \n",
       "38                10  \n",
       "39                10  \n",
       "40                10  \n",
       "41                10  "
      ]
     },
     "execution_count": 6,
     "metadata": {},
     "output_type": "execute_result"
    }
   ],
   "source": [
    "q_meta_responses"
   ]
  },
  {
   "cell_type": "code",
   "execution_count": 7,
   "id": "9d9fb785-a6d6-4fbb-b3bf-948ebac6070d",
   "metadata": {},
   "outputs": [
    {
     "data": {
      "text/html": [
       "<div>\n",
       "<style scoped>\n",
       "    .dataframe tbody tr th:only-of-type {\n",
       "        vertical-align: middle;\n",
       "    }\n",
       "\n",
       "    .dataframe tbody tr th {\n",
       "        vertical-align: top;\n",
       "    }\n",
       "\n",
       "    .dataframe thead th {\n",
       "        text-align: right;\n",
       "    }\n",
       "</style>\n",
       "<table border=\"1\" class=\"dataframe\">\n",
       "  <thead>\n",
       "    <tr style=\"text-align: right;\">\n",
       "      <th></th>\n",
       "      <th>question_id</th>\n",
       "      <th>questionnaire_id</th>\n",
       "      <th>keyword</th>\n",
       "      <th>question</th>\n",
       "      <th>generated_by</th>\n",
       "      <th>response</th>\n",
       "      <th>respondant_id</th>\n",
       "    </tr>\n",
       "  </thead>\n",
       "  <tbody>\n",
       "  </tbody>\n",
       "</table>\n",
       "</div>"
      ],
      "text/plain": [
       "Empty DataFrame\n",
       "Columns: [question_id, questionnaire_id, keyword, question, generated_by, response, respondant_id]\n",
       "Index: []"
      ]
     },
     "execution_count": 7,
     "metadata": {},
     "output_type": "execute_result"
    }
   ],
   "source": [
    "q_merged = q_file.merge(q_full_results, on=['question', 'questionnaire_id']).reset_index(drop=True)\n",
    "\n",
    "failed_merges = q_file.merge(q_full_results, how='left', on=['question', 'questionnaire_id']).reset_index(drop=True)\n",
    "failed_merges[failed_merges.isna().any(axis=1)]"
   ]
  },
  {
   "cell_type": "code",
   "execution_count": 8,
   "id": "18d17e99-2e81-405e-b0b5-a1dd45583a22",
   "metadata": {},
   "outputs": [
    {
     "data": {
      "text/html": [
       "<div>\n",
       "<style scoped>\n",
       "    .dataframe tbody tr th:only-of-type {\n",
       "        vertical-align: middle;\n",
       "    }\n",
       "\n",
       "    .dataframe tbody tr th {\n",
       "        vertical-align: top;\n",
       "    }\n",
       "\n",
       "    .dataframe thead th {\n",
       "        text-align: right;\n",
       "    }\n",
       "</style>\n",
       "<table border=\"1\" class=\"dataframe\">\n",
       "  <thead>\n",
       "    <tr style=\"text-align: right;\">\n",
       "      <th></th>\n",
       "      <th>question_id</th>\n",
       "      <th>questionnaire_id</th>\n",
       "      <th>keyword</th>\n",
       "      <th>question</th>\n",
       "      <th>generated_by</th>\n",
       "      <th>response</th>\n",
       "      <th>respondant_id</th>\n",
       "      <th>correct</th>\n",
       "    </tr>\n",
       "  </thead>\n",
       "  <tbody>\n",
       "    <tr>\n",
       "      <th>0</th>\n",
       "      <td>778</td>\n",
       "      <td>1</td>\n",
       "      <td>Brexit</td>\n",
       "      <td>Do you agree with the Brexit result?</td>\n",
       "      <td>human</td>\n",
       "      <td>human</td>\n",
       "      <td>1</td>\n",
       "      <td>True</td>\n",
       "    </tr>\n",
       "    <tr>\n",
       "      <th>1</th>\n",
       "      <td>778</td>\n",
       "      <td>1</td>\n",
       "      <td>Brexit</td>\n",
       "      <td>Do you agree with the Brexit result?</td>\n",
       "      <td>human</td>\n",
       "      <td>human</td>\n",
       "      <td>2</td>\n",
       "      <td>True</td>\n",
       "    </tr>\n",
       "    <tr>\n",
       "      <th>2</th>\n",
       "      <td>620</td>\n",
       "      <td>1</td>\n",
       "      <td>Exams</td>\n",
       "      <td>Are you in favor of exams starting at a specif...</td>\n",
       "      <td>gpt3</td>\n",
       "      <td>human</td>\n",
       "      <td>1</td>\n",
       "      <td>False</td>\n",
       "    </tr>\n",
       "    <tr>\n",
       "      <th>3</th>\n",
       "      <td>620</td>\n",
       "      <td>1</td>\n",
       "      <td>Exams</td>\n",
       "      <td>Are you in favor of exams starting at a specif...</td>\n",
       "      <td>gpt3</td>\n",
       "      <td>gpt3</td>\n",
       "      <td>2</td>\n",
       "      <td>True</td>\n",
       "    </tr>\n",
       "    <tr>\n",
       "      <th>4</th>\n",
       "      <td>845</td>\n",
       "      <td>1</td>\n",
       "      <td>Premier league</td>\n",
       "      <td>Who do you think will win the Premier League t...</td>\n",
       "      <td>human</td>\n",
       "      <td>human</td>\n",
       "      <td>1</td>\n",
       "      <td>True</td>\n",
       "    </tr>\n",
       "    <tr>\n",
       "      <th>...</th>\n",
       "      <td>...</td>\n",
       "      <td>...</td>\n",
       "      <td>...</td>\n",
       "      <td>...</td>\n",
       "      <td>...</td>\n",
       "      <td>...</td>\n",
       "      <td>...</td>\n",
       "      <td>...</td>\n",
       "    </tr>\n",
       "    <tr>\n",
       "      <th>625</th>\n",
       "      <td>684</td>\n",
       "      <td>10</td>\n",
       "      <td>Influencers</td>\n",
       "      <td>Is influencer a real job?</td>\n",
       "      <td>human</td>\n",
       "      <td>human</td>\n",
       "      <td>21</td>\n",
       "      <td>True</td>\n",
       "    </tr>\n",
       "    <tr>\n",
       "      <th>626</th>\n",
       "      <td>737</td>\n",
       "      <td>10</td>\n",
       "      <td>Batgirl</td>\n",
       "      <td>Did you ever see a Batgirl comic?</td>\n",
       "      <td>human</td>\n",
       "      <td>gpt3</td>\n",
       "      <td>20</td>\n",
       "      <td>False</td>\n",
       "    </tr>\n",
       "    <tr>\n",
       "      <th>627</th>\n",
       "      <td>737</td>\n",
       "      <td>10</td>\n",
       "      <td>Batgirl</td>\n",
       "      <td>Did you ever see a Batgirl comic?</td>\n",
       "      <td>human</td>\n",
       "      <td>gpt3</td>\n",
       "      <td>21</td>\n",
       "      <td>False</td>\n",
       "    </tr>\n",
       "    <tr>\n",
       "      <th>628</th>\n",
       "      <td>243</td>\n",
       "      <td>10</td>\n",
       "      <td>Dating apps</td>\n",
       "      <td>Do you think dating apps are a good way to mee...</td>\n",
       "      <td>gpt3</td>\n",
       "      <td>human</td>\n",
       "      <td>20</td>\n",
       "      <td>False</td>\n",
       "    </tr>\n",
       "    <tr>\n",
       "      <th>629</th>\n",
       "      <td>243</td>\n",
       "      <td>10</td>\n",
       "      <td>Dating apps</td>\n",
       "      <td>Do you think dating apps are a good way to mee...</td>\n",
       "      <td>gpt3</td>\n",
       "      <td>gpt3</td>\n",
       "      <td>21</td>\n",
       "      <td>True</td>\n",
       "    </tr>\n",
       "  </tbody>\n",
       "</table>\n",
       "<p>630 rows × 8 columns</p>\n",
       "</div>"
      ],
      "text/plain": [
       "     question_id  questionnaire_id         keyword  \\\n",
       "0            778                 1          Brexit   \n",
       "1            778                 1          Brexit   \n",
       "2            620                 1           Exams   \n",
       "3            620                 1           Exams   \n",
       "4            845                 1  Premier league   \n",
       "..           ...               ...             ...   \n",
       "625          684                10     Influencers   \n",
       "626          737                10         Batgirl   \n",
       "627          737                10         Batgirl   \n",
       "628          243                10     Dating apps   \n",
       "629          243                10     Dating apps   \n",
       "\n",
       "                                              question generated_by response  \\\n",
       "0                 Do you agree with the Brexit result?        human    human   \n",
       "1                 Do you agree with the Brexit result?        human    human   \n",
       "2    Are you in favor of exams starting at a specif...         gpt3    human   \n",
       "3    Are you in favor of exams starting at a specif...         gpt3     gpt3   \n",
       "4    Who do you think will win the Premier League t...        human    human   \n",
       "..                                                 ...          ...      ...   \n",
       "625                          Is influencer a real job?        human    human   \n",
       "626                  Did you ever see a Batgirl comic?        human     gpt3   \n",
       "627                  Did you ever see a Batgirl comic?        human     gpt3   \n",
       "628  Do you think dating apps are a good way to mee...         gpt3    human   \n",
       "629  Do you think dating apps are a good way to mee...         gpt3     gpt3   \n",
       "\n",
       "     respondant_id  correct  \n",
       "0                1     True  \n",
       "1                2     True  \n",
       "2                1    False  \n",
       "3                2     True  \n",
       "4                1     True  \n",
       "..             ...      ...  \n",
       "625             21     True  \n",
       "626             20    False  \n",
       "627             21    False  \n",
       "628             20    False  \n",
       "629             21     True  \n",
       "\n",
       "[630 rows x 8 columns]"
      ]
     },
     "execution_count": 8,
     "metadata": {},
     "output_type": "execute_result"
    }
   ],
   "source": [
    "q_merged['correct'] = q_merged.apply(lambda x: True if x['generated_by'] == x['response'] else False, axis=1)\n",
    "q_merged"
   ]
  },
  {
   "cell_type": "code",
   "execution_count": 9,
   "id": "209ea787-7157-40d9-b6bd-f017a40ad52d",
   "metadata": {},
   "outputs": [
    {
     "name": "stdout",
     "output_type": "stream",
     "text": [
      "#########################################################\n",
      "               score\n",
      "respondant_id       \n",
      "1                 20\n",
      "2                 14\n",
      "3                 15\n",
      "4                 19\n",
      "5                 14\n",
      "6                 14\n",
      "7                 13\n",
      "8                 15\n",
      "9                 15\n",
      "10                15\n",
      "11                19\n",
      "12                17\n",
      "13                15\n",
      "14                18\n",
      "15                16\n",
      "16                13\n",
      "17                11\n",
      "18                21\n",
      "19                17\n",
      "20                16\n",
      "21                19\n",
      "#########################################################\n",
      "min score: 11\n",
      "max score: 21\n",
      "average score: 16.0\n",
      "99%: 20.8\n",
      "95%: 20.0\n",
      "90%: 19.0\n",
      "75%: 18.0\n",
      "60%: 16.0\n",
      "50%: 15.0\n",
      "25%: 14.0\n",
      "10%: 13.0\n",
      "#########################################################\n"
     ]
    }
   ],
   "source": [
    "respondant_scores = q_merged[q_merged['correct']][['respondant_id', 'correct']]\\\n",
    "                    .groupby('respondant_id')\\\n",
    "                    .sum()\\\n",
    "                    .rename(columns={'correct': 'score'})\n",
    "print('#########################################################')\n",
    "print(respondant_scores)\n",
    "print('#########################################################')\n",
    "print(f'min score: {int(np.min(respondant_scores, axis=0))}')\n",
    "print(f'max score: {int(np.max(respondant_scores, axis = 0))}')\n",
    "print(f'average score: {np.average(respondant_scores)}')\n",
    "print(f'99%: {np.percentile(respondant_scores, 99)}')\n",
    "print(f'95%: {np.percentile(respondant_scores, 95)}')\n",
    "print(f'90%: {np.percentile(respondant_scores, 90)}')\n",
    "print(f'75%: {np.percentile(respondant_scores, 75)}')\n",
    "print(f'60%: {np.percentile(respondant_scores, 60)}')\n",
    "print(f'50%: {np.percentile(respondant_scores, 50)}')\n",
    "print(f'25%: {np.percentile(respondant_scores, 25)}')\n",
    "print(f'10%: {np.percentile(respondant_scores, 10)}')\n",
    "print('#########################################################')"
   ]
  },
  {
   "cell_type": "code",
   "execution_count": 10,
   "id": "7dc0bfbb-4f5a-477c-be0c-3e90aa405fda",
   "metadata": {},
   "outputs": [
    {
     "name": "stdout",
     "output_type": "stream",
     "text": [
      "#########################################################\n",
      "questionnaire_id\n",
      "1     17.0\n",
      "2     17.0\n",
      "3     14.0\n",
      "4     13.0\n",
      "5     15.0\n",
      "6     16.8\n",
      "7     16.0\n",
      "8     12.0\n",
      "9     19.0\n",
      "10    17.5\n",
      "dtype: float64\n",
      "#########################################################\n"
     ]
    }
   ],
   "source": [
    "questionnaire_average_scores = q_merged[['respondant_id', 'questionnaire_id', 'correct']]\\\n",
    "                    .groupby(['respondant_id', 'questionnaire_id'])\\\n",
    "                    .apply(lambda group: sum(group['correct']))\\\n",
    "                    .groupby('questionnaire_id')\\\n",
    "                    .mean()\n",
    "\n",
    "print('#########################################################')\n",
    "print(questionnaire_average_scores)\n",
    "print('#########################################################')"
   ]
  },
  {
   "cell_type": "code",
   "execution_count": 11,
   "id": "ed29283f-a603-43a2-b915-50ca072b2be6",
   "metadata": {},
   "outputs": [
    {
     "name": "stdout",
     "output_type": "stream",
     "text": [
      "Correctly identified as gpt3: 152 - 48.25396825396825%\n",
      "Incorrectly idenfitied as gpt3: 131 - 41.58730158730159%\n",
      "Correctly identified as human: 184 - 58.41269841269842%\n",
      "Incorrectly identified as human: 163 - 51.746031746031754%\n"
     ]
    }
   ],
   "source": [
    "total_gpt3 = q_merged.query('generated_by == \"gpt3\"').shape[0]\n",
    "total_human = q_merged.query('generated_by == \"human\"').shape[0]\n",
    "\n",
    "num_identified_gpt3 = q_merged.query('generated_by == \"gpt3\" and response == \"gpt3\"').shape[0]\n",
    "print(f'Correctly identified as gpt3: {num_identified_gpt3} - {(num_identified_gpt3/total_gpt3) * 100}%')                  \n",
    "\n",
    "num_misidentified_gpt3 = q_merged.query('generated_by == \"human\" and response == \"gpt3\"').shape[0]\n",
    "print(f'Incorrectly idenfitied as gpt3: {num_misidentified_gpt3} - {(num_misidentified_gpt3/total_human) * 100}%')\n",
    "\n",
    "num_identified_human = q_merged.query('generated_by == \"human\" and response == \"human\"').shape[0]\n",
    "print(f'Correctly identified as human: {num_identified_human} - {(num_identified_human/total_human) * 100}%')\n",
    "\n",
    "num_misidentified_human = q_merged.query('generated_by == \"gpt3\" and response == \"human\"').shape[0]\n",
    "print(f'Incorrectly identified as human: {num_misidentified_human} - {(num_misidentified_human/total_gpt3) * 100}%')"
   ]
  },
  {
   "cell_type": "code",
   "execution_count": 12,
   "id": "a742fc38-4f9b-4608-8ae6-0b8a974e7165",
   "metadata": {},
   "outputs": [
    {
     "name": "stdout",
     "output_type": "stream",
     "text": [
      "Out of 600, participants got 336 questions correct and 294 questions incorrect\n"
     ]
    }
   ],
   "source": [
    "\n",
    "\n",
    "print(f\"Out of 600, participants got {q_merged.query('correct == True').shape[0]} questions correct and {q_merged.query('correct == False').shape[0]} questions incorrect\")"
   ]
  },
  {
   "cell_type": "code",
   "execution_count": 13,
   "id": "defbdadc-5865-4c4b-a6ff-f4fddcdf099a",
   "metadata": {},
   "outputs": [
    {
     "name": "stdout",
     "output_type": "stream",
     "text": [
      "               score\n",
      "respondant_id       \n",
      "1                 20\n",
      "2                 14\n",
      "3                 15\n",
      "4                 19\n",
      "5                 14\n",
      "6                 14\n",
      "7                 13\n",
      "8                 15\n",
      "9                 15\n",
      "10                15\n",
      "11                19\n",
      "12                17\n",
      "13                15\n",
      "14                18\n",
      "15                16\n",
      "16                13\n",
      "17                11\n",
      "18                21\n",
      "19                17\n",
      "20                16\n",
      "21                19\n"
     ]
    }
   ],
   "source": [
    "print(respondant_scores)"
   ]
  },
  {
   "cell_type": "code",
   "execution_count": 63,
   "id": "d6964316-8ba6-4706-a8db-2eb70f49e631",
   "metadata": {},
   "outputs": [
    {
     "data": {
      "application/vnd.plotly.v1+json": {
       "config": {
        "plotlyServerURL": "https://plot.ly"
       },
       "data": [
        {
         "alignmentgroup": "True",
         "hovertemplate": "score=%{x}<br>respondant_id=%{y}<extra></extra>",
         "legendgroup": "",
         "marker": {
          "color": "rgb(158,202,225)",
          "pattern": {
           "shape": ""
          }
         },
         "name": "",
         "offsetgroup": "",
         "orientation": "v",
         "showlegend": false,
         "textposition": "auto",
         "type": "bar",
         "x": [
          20,
          14,
          15,
          19,
          14,
          14,
          13,
          15,
          15,
          15,
          19,
          17,
          15,
          18,
          16,
          13,
          11,
          21,
          17,
          16,
          19
         ],
         "xaxis": "x",
         "y": [
          1,
          2,
          3,
          4,
          5,
          6,
          7,
          8,
          9,
          10,
          11,
          12,
          13,
          14,
          15,
          16,
          17,
          18,
          19,
          20,
          21
         ],
         "yaxis": "y"
        }
       ],
       "layout": {
        "autosize": true,
        "barmode": "relative",
        "legend": {
         "tracegroupgap": 0
        },
        "margin": {
         "t": 60
        },
        "template": {
         "data": {
          "bar": [
           {
            "error_x": {
             "color": "#2a3f5f"
            },
            "error_y": {
             "color": "#2a3f5f"
            },
            "marker": {
             "line": {
              "color": "#E5ECF6",
              "width": 0.5
             },
             "pattern": {
              "fillmode": "overlay",
              "size": 10,
              "solidity": 0.2
             }
            },
            "type": "bar"
           }
          ],
          "barpolar": [
           {
            "marker": {
             "line": {
              "color": "#E5ECF6",
              "width": 0.5
             },
             "pattern": {
              "fillmode": "overlay",
              "size": 10,
              "solidity": 0.2
             }
            },
            "type": "barpolar"
           }
          ],
          "carpet": [
           {
            "aaxis": {
             "endlinecolor": "#2a3f5f",
             "gridcolor": "white",
             "linecolor": "white",
             "minorgridcolor": "white",
             "startlinecolor": "#2a3f5f"
            },
            "baxis": {
             "endlinecolor": "#2a3f5f",
             "gridcolor": "white",
             "linecolor": "white",
             "minorgridcolor": "white",
             "startlinecolor": "#2a3f5f"
            },
            "type": "carpet"
           }
          ],
          "choropleth": [
           {
            "colorbar": {
             "outlinewidth": 0,
             "ticks": ""
            },
            "type": "choropleth"
           }
          ],
          "contour": [
           {
            "colorbar": {
             "outlinewidth": 0,
             "ticks": ""
            },
            "colorscale": [
             [
              0,
              "#0d0887"
             ],
             [
              0.1111111111111111,
              "#46039f"
             ],
             [
              0.2222222222222222,
              "#7201a8"
             ],
             [
              0.3333333333333333,
              "#9c179e"
             ],
             [
              0.4444444444444444,
              "#bd3786"
             ],
             [
              0.5555555555555556,
              "#d8576b"
             ],
             [
              0.6666666666666666,
              "#ed7953"
             ],
             [
              0.7777777777777778,
              "#fb9f3a"
             ],
             [
              0.8888888888888888,
              "#fdca26"
             ],
             [
              1,
              "#f0f921"
             ]
            ],
            "type": "contour"
           }
          ],
          "contourcarpet": [
           {
            "colorbar": {
             "outlinewidth": 0,
             "ticks": ""
            },
            "type": "contourcarpet"
           }
          ],
          "heatmap": [
           {
            "colorbar": {
             "outlinewidth": 0,
             "ticks": ""
            },
            "colorscale": [
             [
              0,
              "#0d0887"
             ],
             [
              0.1111111111111111,
              "#46039f"
             ],
             [
              0.2222222222222222,
              "#7201a8"
             ],
             [
              0.3333333333333333,
              "#9c179e"
             ],
             [
              0.4444444444444444,
              "#bd3786"
             ],
             [
              0.5555555555555556,
              "#d8576b"
             ],
             [
              0.6666666666666666,
              "#ed7953"
             ],
             [
              0.7777777777777778,
              "#fb9f3a"
             ],
             [
              0.8888888888888888,
              "#fdca26"
             ],
             [
              1,
              "#f0f921"
             ]
            ],
            "type": "heatmap"
           }
          ],
          "heatmapgl": [
           {
            "colorbar": {
             "outlinewidth": 0,
             "ticks": ""
            },
            "colorscale": [
             [
              0,
              "#0d0887"
             ],
             [
              0.1111111111111111,
              "#46039f"
             ],
             [
              0.2222222222222222,
              "#7201a8"
             ],
             [
              0.3333333333333333,
              "#9c179e"
             ],
             [
              0.4444444444444444,
              "#bd3786"
             ],
             [
              0.5555555555555556,
              "#d8576b"
             ],
             [
              0.6666666666666666,
              "#ed7953"
             ],
             [
              0.7777777777777778,
              "#fb9f3a"
             ],
             [
              0.8888888888888888,
              "#fdca26"
             ],
             [
              1,
              "#f0f921"
             ]
            ],
            "type": "heatmapgl"
           }
          ],
          "histogram": [
           {
            "marker": {
             "pattern": {
              "fillmode": "overlay",
              "size": 10,
              "solidity": 0.2
             }
            },
            "type": "histogram"
           }
          ],
          "histogram2d": [
           {
            "colorbar": {
             "outlinewidth": 0,
             "ticks": ""
            },
            "colorscale": [
             [
              0,
              "#0d0887"
             ],
             [
              0.1111111111111111,
              "#46039f"
             ],
             [
              0.2222222222222222,
              "#7201a8"
             ],
             [
              0.3333333333333333,
              "#9c179e"
             ],
             [
              0.4444444444444444,
              "#bd3786"
             ],
             [
              0.5555555555555556,
              "#d8576b"
             ],
             [
              0.6666666666666666,
              "#ed7953"
             ],
             [
              0.7777777777777778,
              "#fb9f3a"
             ],
             [
              0.8888888888888888,
              "#fdca26"
             ],
             [
              1,
              "#f0f921"
             ]
            ],
            "type": "histogram2d"
           }
          ],
          "histogram2dcontour": [
           {
            "colorbar": {
             "outlinewidth": 0,
             "ticks": ""
            },
            "colorscale": [
             [
              0,
              "#0d0887"
             ],
             [
              0.1111111111111111,
              "#46039f"
             ],
             [
              0.2222222222222222,
              "#7201a8"
             ],
             [
              0.3333333333333333,
              "#9c179e"
             ],
             [
              0.4444444444444444,
              "#bd3786"
             ],
             [
              0.5555555555555556,
              "#d8576b"
             ],
             [
              0.6666666666666666,
              "#ed7953"
             ],
             [
              0.7777777777777778,
              "#fb9f3a"
             ],
             [
              0.8888888888888888,
              "#fdca26"
             ],
             [
              1,
              "#f0f921"
             ]
            ],
            "type": "histogram2dcontour"
           }
          ],
          "mesh3d": [
           {
            "colorbar": {
             "outlinewidth": 0,
             "ticks": ""
            },
            "type": "mesh3d"
           }
          ],
          "parcoords": [
           {
            "line": {
             "colorbar": {
              "outlinewidth": 0,
              "ticks": ""
             }
            },
            "type": "parcoords"
           }
          ],
          "pie": [
           {
            "automargin": true,
            "type": "pie"
           }
          ],
          "scatter": [
           {
            "fillpattern": {
             "fillmode": "overlay",
             "size": 10,
             "solidity": 0.2
            },
            "type": "scatter"
           }
          ],
          "scatter3d": [
           {
            "line": {
             "colorbar": {
              "outlinewidth": 0,
              "ticks": ""
             }
            },
            "marker": {
             "colorbar": {
              "outlinewidth": 0,
              "ticks": ""
             }
            },
            "type": "scatter3d"
           }
          ],
          "scattercarpet": [
           {
            "marker": {
             "colorbar": {
              "outlinewidth": 0,
              "ticks": ""
             }
            },
            "type": "scattercarpet"
           }
          ],
          "scattergeo": [
           {
            "marker": {
             "colorbar": {
              "outlinewidth": 0,
              "ticks": ""
             }
            },
            "type": "scattergeo"
           }
          ],
          "scattergl": [
           {
            "marker": {
             "colorbar": {
              "outlinewidth": 0,
              "ticks": ""
             }
            },
            "type": "scattergl"
           }
          ],
          "scattermapbox": [
           {
            "marker": {
             "colorbar": {
              "outlinewidth": 0,
              "ticks": ""
             }
            },
            "type": "scattermapbox"
           }
          ],
          "scatterpolar": [
           {
            "marker": {
             "colorbar": {
              "outlinewidth": 0,
              "ticks": ""
             }
            },
            "type": "scatterpolar"
           }
          ],
          "scatterpolargl": [
           {
            "marker": {
             "colorbar": {
              "outlinewidth": 0,
              "ticks": ""
             }
            },
            "type": "scatterpolargl"
           }
          ],
          "scatterternary": [
           {
            "marker": {
             "colorbar": {
              "outlinewidth": 0,
              "ticks": ""
             }
            },
            "type": "scatterternary"
           }
          ],
          "surface": [
           {
            "colorbar": {
             "outlinewidth": 0,
             "ticks": ""
            },
            "colorscale": [
             [
              0,
              "#0d0887"
             ],
             [
              0.1111111111111111,
              "#46039f"
             ],
             [
              0.2222222222222222,
              "#7201a8"
             ],
             [
              0.3333333333333333,
              "#9c179e"
             ],
             [
              0.4444444444444444,
              "#bd3786"
             ],
             [
              0.5555555555555556,
              "#d8576b"
             ],
             [
              0.6666666666666666,
              "#ed7953"
             ],
             [
              0.7777777777777778,
              "#fb9f3a"
             ],
             [
              0.8888888888888888,
              "#fdca26"
             ],
             [
              1,
              "#f0f921"
             ]
            ],
            "type": "surface"
           }
          ],
          "table": [
           {
            "cells": {
             "fill": {
              "color": "#EBF0F8"
             },
             "line": {
              "color": "white"
             }
            },
            "header": {
             "fill": {
              "color": "#C8D4E3"
             },
             "line": {
              "color": "white"
             }
            },
            "type": "table"
           }
          ]
         },
         "layout": {
          "annotationdefaults": {
           "arrowcolor": "#2a3f5f",
           "arrowhead": 0,
           "arrowwidth": 1
          },
          "autotypenumbers": "strict",
          "coloraxis": {
           "colorbar": {
            "outlinewidth": 0,
            "ticks": ""
           }
          },
          "colorscale": {
           "diverging": [
            [
             0,
             "#8e0152"
            ],
            [
             0.1,
             "#c51b7d"
            ],
            [
             0.2,
             "#de77ae"
            ],
            [
             0.3,
             "#f1b6da"
            ],
            [
             0.4,
             "#fde0ef"
            ],
            [
             0.5,
             "#f7f7f7"
            ],
            [
             0.6,
             "#e6f5d0"
            ],
            [
             0.7,
             "#b8e186"
            ],
            [
             0.8,
             "#7fbc41"
            ],
            [
             0.9,
             "#4d9221"
            ],
            [
             1,
             "#276419"
            ]
           ],
           "sequential": [
            [
             0,
             "#0d0887"
            ],
            [
             0.1111111111111111,
             "#46039f"
            ],
            [
             0.2222222222222222,
             "#7201a8"
            ],
            [
             0.3333333333333333,
             "#9c179e"
            ],
            [
             0.4444444444444444,
             "#bd3786"
            ],
            [
             0.5555555555555556,
             "#d8576b"
            ],
            [
             0.6666666666666666,
             "#ed7953"
            ],
            [
             0.7777777777777778,
             "#fb9f3a"
            ],
            [
             0.8888888888888888,
             "#fdca26"
            ],
            [
             1,
             "#f0f921"
            ]
           ],
           "sequentialminus": [
            [
             0,
             "#0d0887"
            ],
            [
             0.1111111111111111,
             "#46039f"
            ],
            [
             0.2222222222222222,
             "#7201a8"
            ],
            [
             0.3333333333333333,
             "#9c179e"
            ],
            [
             0.4444444444444444,
             "#bd3786"
            ],
            [
             0.5555555555555556,
             "#d8576b"
            ],
            [
             0.6666666666666666,
             "#ed7953"
            ],
            [
             0.7777777777777778,
             "#fb9f3a"
            ],
            [
             0.8888888888888888,
             "#fdca26"
            ],
            [
             1,
             "#f0f921"
            ]
           ]
          },
          "colorway": [
           "#636efa",
           "#EF553B",
           "#00cc96",
           "#ab63fa",
           "#FFA15A",
           "#19d3f3",
           "#FF6692",
           "#B6E880",
           "#FF97FF",
           "#FECB52"
          ],
          "font": {
           "color": "#2a3f5f"
          },
          "geo": {
           "bgcolor": "white",
           "lakecolor": "white",
           "landcolor": "#E5ECF6",
           "showlakes": true,
           "showland": true,
           "subunitcolor": "white"
          },
          "hoverlabel": {
           "align": "left"
          },
          "hovermode": "closest",
          "mapbox": {
           "style": "light"
          },
          "paper_bgcolor": "white",
          "plot_bgcolor": "#E5ECF6",
          "polar": {
           "angularaxis": {
            "gridcolor": "white",
            "linecolor": "white",
            "ticks": ""
           },
           "bgcolor": "#E5ECF6",
           "radialaxis": {
            "gridcolor": "white",
            "linecolor": "white",
            "ticks": ""
           }
          },
          "scene": {
           "xaxis": {
            "backgroundcolor": "#E5ECF6",
            "gridcolor": "white",
            "gridwidth": 2,
            "linecolor": "white",
            "showbackground": true,
            "ticks": "",
            "zerolinecolor": "white"
           },
           "yaxis": {
            "backgroundcolor": "#E5ECF6",
            "gridcolor": "white",
            "gridwidth": 2,
            "linecolor": "white",
            "showbackground": true,
            "ticks": "",
            "zerolinecolor": "white"
           },
           "zaxis": {
            "backgroundcolor": "#E5ECF6",
            "gridcolor": "white",
            "gridwidth": 2,
            "linecolor": "white",
            "showbackground": true,
            "ticks": "",
            "zerolinecolor": "white"
           }
          },
          "shapedefaults": {
           "line": {
            "color": "#2a3f5f"
           }
          },
          "ternary": {
           "aaxis": {
            "gridcolor": "white",
            "linecolor": "white",
            "ticks": ""
           },
           "baxis": {
            "gridcolor": "white",
            "linecolor": "white",
            "ticks": ""
           },
           "bgcolor": "#E5ECF6",
           "caxis": {
            "gridcolor": "white",
            "linecolor": "white",
            "ticks": ""
           }
          },
          "title": {
           "x": 0.05
          },
          "xaxis": {
           "automargin": true,
           "gridcolor": "white",
           "linecolor": "white",
           "ticks": "",
           "title": {
            "standoff": 15
           },
           "zerolinecolor": "white",
           "zerolinewidth": 2
          },
          "yaxis": {
           "automargin": true,
           "gridcolor": "white",
           "linecolor": "white",
           "ticks": "",
           "title": {
            "standoff": 15
           },
           "zerolinecolor": "white",
           "zerolinewidth": 2
          }
         }
        },
        "xaxis": {
         "anchor": "y",
         "autorange": true,
         "domain": [
          0,
          1
         ],
         "range": [
          10.5,
          21.5
         ],
         "title": {
          "text": "score"
         },
         "type": "linear"
        },
        "yaxis": {
         "anchor": "x",
         "autorange": true,
         "domain": [
          0,
          1
         ],
         "range": [
          0,
          45.26315789473684
         ],
         "title": {
          "text": "respondant_id"
         },
         "type": "linear"
        }
       }
      },
      "image/png": "[encoded data removed]",
      "text/html": [
       "<div>                            <div id=\"7a157e57-fa14-47d0-bcac-45ccc766a111\" class=\"plotly-graph-div\" style=\"height:525px; width:100%;\"></div>            <script type=\"text/javascript\">                require([\"plotly\"], function(Plotly) {                    window.PLOTLYENV=window.PLOTLYENV || {};                                    if (document.getElementById(\"7a157e57-fa14-47d0-bcac-45ccc766a111\")) {                    Plotly.newPlot(                        \"7a157e57-fa14-47d0-bcac-45ccc766a111\",                        [{\"alignmentgroup\":\"True\",\"hovertemplate\":\"score=%{x}<br>respondant_id=%{y}<extra></extra>\",\"legendgroup\":\"\",\"marker\":{\"color\":\"rgb(158,202,225)\",\"pattern\":{\"shape\":\"\"}},\"name\":\"\",\"offsetgroup\":\"\",\"orientation\":\"v\",\"showlegend\":false,\"textposition\":\"auto\",\"x\":[20,14,15,19,14,14,13,15,15,15,19,17,15,18,16,13,11,21,17,16,19],\"xaxis\":\"x\",\"y\":[1,2,3,4,5,6,7,8,9,10,11,12,13,14,15,16,17,18,19,20,21],\"yaxis\":\"y\",\"type\":\"bar\"}],                        {\"template\":{\"data\":{\"histogram2dcontour\":[{\"type\":\"histogram2dcontour\",\"colorbar\":{\"outlinewidth\":0,\"ticks\":\"\"},\"colorscale\":[[0.0,\"#0d0887\"],[0.1111111111111111,\"#46039f\"],[0.2222222222222222,\"#7201a8\"],[0.3333333333333333,\"#9c179e\"],[0.4444444444444444,\"#bd3786\"],[0.5555555555555556,\"#d8576b\"],[0.6666666666666666,\"#ed7953\"],[0.7777777777777778,\"#fb9f3a\"],[0.8888888888888888,\"#fdca26\"],[1.0,\"#f0f921\"]]}],\"choropleth\":[{\"type\":\"choropleth\",\"colorbar\":{\"outlinewidth\":0,\"ticks\":\"\"}}],\"histogram2d\":[{\"type\":\"histogram2d\",\"colorbar\":{\"outlinewidth\":0,\"ticks\":\"\"},\"colorscale\":[[0.0,\"#0d0887\"],[0.1111111111111111,\"#46039f\"],[0.2222222222222222,\"#7201a8\"],[0.3333333333333333,\"#9c179e\"],[0.4444444444444444,\"#bd3786\"],[0.5555555555555556,\"#d8576b\"],[0.6666666666666666,\"#ed7953\"],[0.7777777777777778,\"#fb9f3a\"],[0.8888888888888888,\"#fdca26\"],[1.0,\"#f0f921\"]]}],\"heatmap\":[{\"type\":\"heatmap\",\"colorbar\":{\"outlinewidth\":0,\"ticks\":\"\"},\"colorscale\":[[0.0,\"#0d0887\"],[0.1111111111111111,\"#46039f\"],[0.2222222222222222,\"#7201a8\"],[0.3333333333333333,\"#9c179e\"],[0.4444444444444444,\"#bd3786\"],[0.5555555555555556,\"#d8576b\"],[0.6666666666666666,\"#ed7953\"],[0.7777777777777778,\"#fb9f3a\"],[0.8888888888888888,\"#fdca26\"],[1.0,\"#f0f921\"]]}],\"heatmapgl\":[{\"type\":\"heatmapgl\",\"colorbar\":{\"outlinewidth\":0,\"ticks\":\"\"},\"colorscale\":[[0.0,\"#0d0887\"],[0.1111111111111111,\"#46039f\"],[0.2222222222222222,\"#7201a8\"],[0.3333333333333333,\"#9c179e\"],[0.4444444444444444,\"#bd3786\"],[0.5555555555555556,\"#d8576b\"],[0.6666666666666666,\"#ed7953\"],[0.7777777777777778,\"#fb9f3a\"],[0.8888888888888888,\"#fdca26\"],[1.0,\"#f0f921\"]]}],\"contourcarpet\":[{\"type\":\"contourcarpet\",\"colorbar\":{\"outlinewidth\":0,\"ticks\":\"\"}}],\"contour\":[{\"type\":\"contour\",\"colorbar\":{\"outlinewidth\":0,\"ticks\":\"\"},\"colorscale\":[[0.0,\"#0d0887\"],[0.1111111111111111,\"#46039f\"],[0.2222222222222222,\"#7201a8\"],[0.3333333333333333,\"#9c179e\"],[0.4444444444444444,\"#bd3786\"],[0.5555555555555556,\"#d8576b\"],[0.6666666666666666,\"#ed7953\"],[0.7777777777777778,\"#fb9f3a\"],[0.8888888888888888,\"#fdca26\"],[1.0,\"#f0f921\"]]}],\"surface\":[{\"type\":\"surface\",\"colorbar\":{\"outlinewidth\":0,\"ticks\":\"\"},\"colorscale\":[[0.0,\"#0d0887\"],[0.1111111111111111,\"#46039f\"],[0.2222222222222222,\"#7201a8\"],[0.3333333333333333,\"#9c179e\"],[0.4444444444444444,\"#bd3786\"],[0.5555555555555556,\"#d8576b\"],[0.6666666666666666,\"#ed7953\"],[0.7777777777777778,\"#fb9f3a\"],[0.8888888888888888,\"#fdca26\"],[1.0,\"#f0f921\"]]}],\"mesh3d\":[{\"type\":\"mesh3d\",\"colorbar\":{\"outlinewidth\":0,\"ticks\":\"\"}}],\"scatter\":[{\"fillpattern\":{\"fillmode\":\"overlay\",\"size\":10,\"solidity\":0.2},\"type\":\"scatter\"}],\"parcoords\":[{\"type\":\"parcoords\",\"line\":{\"colorbar\":{\"outlinewidth\":0,\"ticks\":\"\"}}}],\"scatterpolargl\":[{\"type\":\"scatterpolargl\",\"marker\":{\"colorbar\":{\"outlinewidth\":0,\"ticks\":\"\"}}}],\"bar\":[{\"error_x\":{\"color\":\"#2a3f5f\"},\"error_y\":{\"color\":\"#2a3f5f\"},\"marker\":{\"line\":{\"color\":\"#E5ECF6\",\"width\":0.5},\"pattern\":{\"fillmode\":\"overlay\",\"size\":10,\"solidity\":0.2}},\"type\":\"bar\"}],\"scattergeo\":[{\"type\":\"scattergeo\",\"marker\":{\"colorbar\":{\"outlinewidth\":0,\"ticks\":\"\"}}}],\"scatterpolar\":[{\"type\":\"scatterpolar\",\"marker\":{\"colorbar\":{\"outlinewidth\":0,\"ticks\":\"\"}}}],\"histogram\":[{\"marker\":{\"pattern\":{\"fillmode\":\"overlay\",\"size\":10,\"solidity\":0.2}},\"type\":\"histogram\"}],\"scattergl\":[{\"type\":\"scattergl\",\"marker\":{\"colorbar\":{\"outlinewidth\":0,\"ticks\":\"\"}}}],\"scatter3d\":[{\"type\":\"scatter3d\",\"line\":{\"colorbar\":{\"outlinewidth\":0,\"ticks\":\"\"}},\"marker\":{\"colorbar\":{\"outlinewidth\":0,\"ticks\":\"\"}}}],\"scattermapbox\":[{\"type\":\"scattermapbox\",\"marker\":{\"colorbar\":{\"outlinewidth\":0,\"ticks\":\"\"}}}],\"scatterternary\":[{\"type\":\"scatterternary\",\"marker\":{\"colorbar\":{\"outlinewidth\":0,\"ticks\":\"\"}}}],\"scattercarpet\":[{\"type\":\"scattercarpet\",\"marker\":{\"colorbar\":{\"outlinewidth\":0,\"ticks\":\"\"}}}],\"carpet\":[{\"aaxis\":{\"endlinecolor\":\"#2a3f5f\",\"gridcolor\":\"white\",\"linecolor\":\"white\",\"minorgridcolor\":\"white\",\"startlinecolor\":\"#2a3f5f\"},\"baxis\":{\"endlinecolor\":\"#2a3f5f\",\"gridcolor\":\"white\",\"linecolor\":\"white\",\"minorgridcolor\":\"white\",\"startlinecolor\":\"#2a3f5f\"},\"type\":\"carpet\"}],\"table\":[{\"cells\":{\"fill\":{\"color\":\"#EBF0F8\"},\"line\":{\"color\":\"white\"}},\"header\":{\"fill\":{\"color\":\"#C8D4E3\"},\"line\":{\"color\":\"white\"}},\"type\":\"table\"}],\"barpolar\":[{\"marker\":{\"line\":{\"color\":\"#E5ECF6\",\"width\":0.5},\"pattern\":{\"fillmode\":\"overlay\",\"size\":10,\"solidity\":0.2}},\"type\":\"barpolar\"}],\"pie\":[{\"automargin\":true,\"type\":\"pie\"}]},\"layout\":{\"autotypenumbers\":\"strict\",\"colorway\":[\"#636efa\",\"#EF553B\",\"#00cc96\",\"#ab63fa\",\"#FFA15A\",\"#19d3f3\",\"#FF6692\",\"#B6E880\",\"#FF97FF\",\"#FECB52\"],\"font\":{\"color\":\"#2a3f5f\"},\"hovermode\":\"closest\",\"hoverlabel\":{\"align\":\"left\"},\"paper_bgcolor\":\"white\",\"plot_bgcolor\":\"#E5ECF6\",\"polar\":{\"bgcolor\":\"#E5ECF6\",\"angularaxis\":{\"gridcolor\":\"white\",\"linecolor\":\"white\",\"ticks\":\"\"},\"radialaxis\":{\"gridcolor\":\"white\",\"linecolor\":\"white\",\"ticks\":\"\"}},\"ternary\":{\"bgcolor\":\"#E5ECF6\",\"aaxis\":{\"gridcolor\":\"white\",\"linecolor\":\"white\",\"ticks\":\"\"},\"baxis\":{\"gridcolor\":\"white\",\"linecolor\":\"white\",\"ticks\":\"\"},\"caxis\":{\"gridcolor\":\"white\",\"linecolor\":\"white\",\"ticks\":\"\"}},\"coloraxis\":{\"colorbar\":{\"outlinewidth\":0,\"ticks\":\"\"}},\"colorscale\":{\"sequential\":[[0.0,\"#0d0887\"],[0.1111111111111111,\"#46039f\"],[0.2222222222222222,\"#7201a8\"],[0.3333333333333333,\"#9c179e\"],[0.4444444444444444,\"#bd3786\"],[0.5555555555555556,\"#d8576b\"],[0.6666666666666666,\"#ed7953\"],[0.7777777777777778,\"#fb9f3a\"],[0.8888888888888888,\"#fdca26\"],[1.0,\"#f0f921\"]],\"sequentialminus\":[[0.0,\"#0d0887\"],[0.1111111111111111,\"#46039f\"],[0.2222222222222222,\"#7201a8\"],[0.3333333333333333,\"#9c179e\"],[0.4444444444444444,\"#bd3786\"],[0.5555555555555556,\"#d8576b\"],[0.6666666666666666,\"#ed7953\"],[0.7777777777777778,\"#fb9f3a\"],[0.8888888888888888,\"#fdca26\"],[1.0,\"#f0f921\"]],\"diverging\":[[0,\"#8e0152\"],[0.1,\"#c51b7d\"],[0.2,\"#de77ae\"],[0.3,\"#f1b6da\"],[0.4,\"#fde0ef\"],[0.5,\"#f7f7f7\"],[0.6,\"#e6f5d0\"],[0.7,\"#b8e186\"],[0.8,\"#7fbc41\"],[0.9,\"#4d9221\"],[1,\"#276419\"]]},\"xaxis\":{\"gridcolor\":\"white\",\"linecolor\":\"white\",\"ticks\":\"\",\"title\":{\"standoff\":15},\"zerolinecolor\":\"white\",\"automargin\":true,\"zerolinewidth\":2},\"yaxis\":{\"gridcolor\":\"white\",\"linecolor\":\"white\",\"ticks\":\"\",\"title\":{\"standoff\":15},\"zerolinecolor\":\"white\",\"automargin\":true,\"zerolinewidth\":2},\"scene\":{\"xaxis\":{\"backgroundcolor\":\"#E5ECF6\",\"gridcolor\":\"white\",\"linecolor\":\"white\",\"showbackground\":true,\"ticks\":\"\",\"zerolinecolor\":\"white\",\"gridwidth\":2},\"yaxis\":{\"backgroundcolor\":\"#E5ECF6\",\"gridcolor\":\"white\",\"linecolor\":\"white\",\"showbackground\":true,\"ticks\":\"\",\"zerolinecolor\":\"white\",\"gridwidth\":2},\"zaxis\":{\"backgroundcolor\":\"#E5ECF6\",\"gridcolor\":\"white\",\"linecolor\":\"white\",\"showbackground\":true,\"ticks\":\"\",\"zerolinecolor\":\"white\",\"gridwidth\":2}},\"shapedefaults\":{\"line\":{\"color\":\"#2a3f5f\"}},\"annotationdefaults\":{\"arrowcolor\":\"#2a3f5f\",\"arrowhead\":0,\"arrowwidth\":1},\"geo\":{\"bgcolor\":\"white\",\"landcolor\":\"#E5ECF6\",\"subunitcolor\":\"white\",\"showland\":true,\"showlakes\":true,\"lakecolor\":\"white\"},\"title\":{\"x\":0.05},\"mapbox\":{\"style\":\"light\"}}},\"xaxis\":{\"anchor\":\"y\",\"domain\":[0.0,1.0],\"title\":{\"text\":\"score\"}},\"yaxis\":{\"anchor\":\"x\",\"domain\":[0.0,1.0],\"title\":{\"text\":\"respondant_id\"}},\"legend\":{\"tracegroupgap\":0},\"margin\":{\"t\":60},\"barmode\":\"relative\"},                        {\"responsive\": true}                    ).then(function(){\n",
       "                            \n",
       "var gd = document.getElementById('7a157e57-fa14-47d0-bcac-45ccc766a111');\n",
       "var x = new MutationObserver(function (mutations, observer) {{\n",
       "        var display = window.getComputedStyle(gd).display;\n",
       "        if (!display || display === 'none') {{\n",
       "            console.log([gd, 'removed!']);\n",
       "            Plotly.purge(gd);\n",
       "            observer.disconnect();\n",
       "        }}\n",
       "}});\n",
       "\n",
       "// Listen for the removal of the full notebook cells\n",
       "var notebookContainer = gd.closest('#notebook-container');\n",
       "if (notebookContainer) {{\n",
       "    x.observe(notebookContainer, {childList: true});\n",
       "}}\n",
       "\n",
       "// Listen for the clearing of the current output cell\n",
       "var outputEl = gd.closest('.output');\n",
       "if (outputEl) {{\n",
       "    x.observe(outputEl, {childList: true});\n",
       "}}\n",
       "\n",
       "                        })                };                });            </script>        </div>"
      ]
     },
     "metadata": {},
     "output_type": "display_data"
    }
   ],
   "source": [
    "fig = px.bar(respondant_scores, x = 'score', orientation = \"v\")\n",
    "fig.update_traces(marker_color='rgb(158,202,225)')"
   ]
  },
  {
   "cell_type": "code",
   "execution_count": 15,
   "id": "524d72b3-4119-4434-9747-2b42e50d4e36",
   "metadata": {},
   "outputs": [],
   "source": [
    "#q_meta_responses.query('response >= 1').shape[0]"
   ]
  },
  {
   "cell_type": "code",
   "execution_count": 47,
   "id": "d1d07b99-b2cb-427e-a9b1-f6a1817664b0",
   "metadata": {},
   "outputs": [
    {
     "name": "stdout",
     "output_type": "stream",
     "text": [
      "152\n",
      "184\n",
      "131\n",
      "163\n"
     ]
    },
    {
     "data": {
      "text/plain": [
       "0       True negative\n",
       "1       True negative\n",
       "2      False negative\n",
       "3       True positive\n",
       "4       True negative\n",
       "            ...      \n",
       "625     True negative\n",
       "626    False positive\n",
       "627    False positive\n",
       "628    False negative\n",
       "629     True positive\n",
       "Name: confusion, Length: 630, dtype: object"
      ]
     },
     "execution_count": 47,
     "metadata": {},
     "output_type": "execute_result"
    }
   ],
   "source": [
    "# confusion matrix \n",
    "\n",
    "tp = 'generated_by == \"gpt3\" and response == \"gpt3\"'\n",
    "tn = 'generated_by == \"human\" and response == \"human\"'\n",
    "tp = 'generated_by == \"human\" and response == \"gpt3\"'\n",
    "tn = 'generated_by == \"gpt3\" and response == \"human\"'\n",
    "\n",
    "true_positive = q_merged.query('generated_by == \"gpt3\" and response == \"gpt3\"').shape[0]\n",
    "print(true_positive)\n",
    "true_negative = q_merged.query('generated_by == \"human\" and response == \"human\"').shape[0]\n",
    "print(true_negative)\n",
    "false_positive = q_merged.query('generated_by == \"human\" and response == \"gpt3\"').shape[0]\n",
    "print(false_positive)\n",
    "false_negative = q_merged.query('generated_by == \"gpt3\" and response == \"human\"').shape[0]\n",
    "print(false_negative)\n",
    "\n",
    "\n",
    "\n",
    "\n",
    "q_merged['confusion'] = q_merged.apply(set_confusion, axis=1)\n",
    "q_merged['confusion']"
   ]
  },
  {
   "cell_type": "code",
   "execution_count": 60,
   "id": "0c3e4bfb-b461-469d-911c-b743403a227c",
   "metadata": {},
   "outputs": [
    {
     "name": "stdout",
     "output_type": "stream",
     "text": [
      "347 = 55.08%\n",
      "283 = 44.92%\n"
     ]
    }
   ],
   "source": [
    "# How many times did participants choose Human? \n",
    "choose_human = q_merged.query('response == \"human\"').shape[0]\n",
    "print(f'{choose_human} = 55.08%')\n",
    "\n",
    "# How many times did participants choose GPT-3? \n",
    "choose_gpt3 = q_merged.query('response == \"gpt3\"').shape[0]\n",
    "print(f'{choose_gpt3} = 44.92%')"
   ]
  },
  {
   "cell_type": "code",
   "execution_count": 16,
   "id": "e0df85e3",
   "metadata": {},
   "outputs": [],
   "source": [
    "def set_confusion(df: pd.DataFrame):\n",
    "    if df['generated_by'] == 'gpt3' and df['response'] == 'gpt3':\n",
    "        return 'True positive'\n",
    "    if df['generated_by'] == 'human' and df['response'] == 'human':\n",
    "        return 'True negative'\n",
    "    if df['generated_by'] == 'human' and df['response'] == 'gpt3':\n",
    "        return 'False positive'\n",
    "    else:\n",
    "        return 'False negative'"
   ]
  },
  {
   "cell_type": "code",
   "execution_count": 18,
   "id": "88ea3d16-7df7-4b9a-bc72-15d68a94d26e",
   "metadata": {},
   "outputs": [
    {
     "name": "stdout",
     "output_type": "stream",
     "text": [
      "Accuracy = 0.533\n"
     ]
    }
   ],
   "source": [
    "# Accuracy \n",
    "\n",
    "accuracy = (true_positive + true_negative) / (true_positive + true_negative + false_positive + false_negative)\n",
    "print(f\"Accuracy = {round(accuracy, 3)}\")"
   ]
  },
  {
   "cell_type": "code",
   "execution_count": 19,
   "id": "bd7135db-c188-4723-bd83-90fbf4ccfaa8",
   "metadata": {},
   "outputs": [
    {
     "name": "stdout",
     "output_type": "stream",
     "text": [
      "Error Rate = 0.467\n"
     ]
    }
   ],
   "source": [
    "# Error Rate \n",
    "\n",
    "error = (false_positive + false_negative) / (true_positive + true_negative + false_positive + false_negative)\n",
    "print(f\"Error Rate = {round(error, 3)}\")"
   ]
  },
  {
   "cell_type": "code",
   "execution_count": 20,
   "id": "256afa99-a5ae-4236-849b-3d5514d56e80",
   "metadata": {},
   "outputs": [
    {
     "name": "stdout",
     "output_type": "stream",
     "text": [
      "Sensitivity = 0.483\n"
     ]
    }
   ],
   "source": [
    "# Sensitivity \n",
    "\n",
    "sensitivity = true_positive/(true_positive + false_negative)\n",
    "print(f\"Sensitivity = {round(sensitivity, 3)}\")\n"
   ]
  },
  {
   "cell_type": "code",
   "execution_count": 21,
   "id": "3a337a81-d893-4723-a29c-9f5684b0c011",
   "metadata": {},
   "outputs": [
    {
     "name": "stdout",
     "output_type": "stream",
     "text": [
      "Specificity = 0.584\n"
     ]
    }
   ],
   "source": [
    "# Specificity \n",
    "\n",
    "specificity = true_negative / (true_negative + false_positive)\n",
    "print(f\"Specificity = {round(specificity, 3)}\")"
   ]
  },
  {
   "cell_type": "code",
   "execution_count": 22,
   "id": "901c5c5b-f80c-4314-aff3-0724b9116abc",
   "metadata": {},
   "outputs": [
    {
     "name": "stdout",
     "output_type": "stream",
     "text": [
      "Precision = 0.537\n"
     ]
    }
   ],
   "source": [
    "# Precision  \n",
    "\n",
    "precision = true_positive / (true_positive + false_positive)\n",
    "print(f\"Precision = {round(precision, 3)}\")"
   ]
  },
  {
   "cell_type": "code",
   "execution_count": 23,
   "id": "40b44eb7-2c46-41f5-ab8f-59d5b0d26256",
   "metadata": {},
   "outputs": [
    {
     "name": "stdout",
     "output_type": "stream",
     "text": [
      "False Positive Rate = 0.416\n"
     ]
    }
   ],
   "source": [
    "# False Positive Rate \n",
    "\n",
    "false_positive_rate = false_positive / (true_negative + false_positive)\n",
    "print(f\"False Positive Rate = {round(false_positive_rate, 3)}\")"
   ]
  },
  {
   "cell_type": "code",
   "execution_count": 24,
   "id": "2834f61d-01ad-440f-9499-30d839170487",
   "metadata": {},
   "outputs": [
    {
     "name": "stdout",
     "output_type": "stream",
     "text": [
      "0.4687768530834698\n"
     ]
    }
   ],
   "source": [
    "# F1 score \n",
    "\n",
    "F1 = 2/((1/precision) + (1/false_positive_rate))\n",
    "print(F1)"
   ]
  },
  {
   "cell_type": "code",
   "execution_count": 25,
   "id": "5f9f2410-5982-4983-940f-2dd36388ecbc",
   "metadata": {},
   "outputs": [
    {
     "data": {
      "text/plain": [
       "2.588435821108957"
      ]
     },
     "execution_count": 25,
     "metadata": {},
     "output_type": "execute_result"
    }
   ],
   "source": [
    "# Standard deviation \n",
    "statistics.stdev(respondant_scores['score'])"
   ]
  },
  {
   "cell_type": "code",
   "execution_count": 26,
   "id": "4bbb6a1b",
   "metadata": {},
   "outputs": [
    {
     "name": "stdout",
     "output_type": "stream",
     "text": [
      "(14.82175814043398, 17.178241859566022)\n"
     ]
    },
    {
     "name": "stderr",
     "output_type": "stream",
     "text": [
      "/var/folders/xz/633t8rl91gv2nrg4bvd71cxw0000gn/T/ipykernel_38637/3826591582.py:2: DeprecationWarning:\n",
      "\n",
      "Use of keyword argument `alpha` for method `interval` is deprecated. Use first positional argument or keyword argument `confidence` instead.\n",
      "\n"
     ]
    }
   ],
   "source": [
    "# Confidence intervals \n",
    "conf_95_interval = st.t.interval(alpha=0.95, df=len(respondant_scores)-1, loc=np.mean(respondant_scores['score']), scale=st.sem(respondant_scores['score'])) \n",
    "print(conf_95_interval)"
   ]
  },
  {
   "cell_type": "code",
   "execution_count": 27,
   "id": "73951f80",
   "metadata": {},
   "outputs": [
    {
     "data": {
      "application/vnd.plotly.v1+json": {
       "config": {
        "plotlyServerURL": "https://plot.ly"
       },
       "data": [
        {
         "type": "bar",
         "x": [
          "True Positive",
          "True Negative",
          "False Positive",
          "False Negative"
         ],
         "y": [
          152,
          184,
          131,
          163
         ]
        }
       ],
       "layout": {
        "autosize": true,
        "template": {
         "data": {
          "bar": [
           {
            "error_x": {
             "color": "#2a3f5f"
            },
            "error_y": {
             "color": "#2a3f5f"
            },
            "marker": {
             "line": {
              "color": "#E5ECF6",
              "width": 0.5
             },
             "pattern": {
              "fillmode": "overlay",
              "size": 10,
              "solidity": 0.2
             }
            },
            "type": "bar"
           }
          ],
          "barpolar": [
           {
            "marker": {
             "line": {
              "color": "#E5ECF6",
              "width": 0.5
             },
             "pattern": {
              "fillmode": "overlay",
              "size": 10,
              "solidity": 0.2
             }
            },
            "type": "barpolar"
           }
          ],
          "carpet": [
           {
            "aaxis": {
             "endlinecolor": "#2a3f5f",
             "gridcolor": "white",
             "linecolor": "white",
             "minorgridcolor": "white",
             "startlinecolor": "#2a3f5f"
            },
            "baxis": {
             "endlinecolor": "#2a3f5f",
             "gridcolor": "white",
             "linecolor": "white",
             "minorgridcolor": "white",
             "startlinecolor": "#2a3f5f"
            },
            "type": "carpet"
           }
          ],
          "choropleth": [
           {
            "colorbar": {
             "outlinewidth": 0,
             "ticks": ""
            },
            "type": "choropleth"
           }
          ],
          "contour": [
           {
            "colorbar": {
             "outlinewidth": 0,
             "ticks": ""
            },
            "colorscale": [
             [
              0,
              "#0d0887"
             ],
             [
              0.1111111111111111,
              "#46039f"
             ],
             [
              0.2222222222222222,
              "#7201a8"
             ],
             [
              0.3333333333333333,
              "#9c179e"
             ],
             [
              0.4444444444444444,
              "#bd3786"
             ],
             [
              0.5555555555555556,
              "#d8576b"
             ],
             [
              0.6666666666666666,
              "#ed7953"
             ],
             [
              0.7777777777777778,
              "#fb9f3a"
             ],
             [
              0.8888888888888888,
              "#fdca26"
             ],
             [
              1,
              "#f0f921"
             ]
            ],
            "type": "contour"
           }
          ],
          "contourcarpet": [
           {
            "colorbar": {
             "outlinewidth": 0,
             "ticks": ""
            },
            "type": "contourcarpet"
           }
          ],
          "heatmap": [
           {
            "colorbar": {
             "outlinewidth": 0,
             "ticks": ""
            },
            "colorscale": [
             [
              0,
              "#0d0887"
             ],
             [
              0.1111111111111111,
              "#46039f"
             ],
             [
              0.2222222222222222,
              "#7201a8"
             ],
             [
              0.3333333333333333,
              "#9c179e"
             ],
             [
              0.4444444444444444,
              "#bd3786"
             ],
             [
              0.5555555555555556,
              "#d8576b"
             ],
             [
              0.6666666666666666,
              "#ed7953"
             ],
             [
              0.7777777777777778,
              "#fb9f3a"
             ],
             [
              0.8888888888888888,
              "#fdca26"
             ],
             [
              1,
              "#f0f921"
             ]
            ],
            "type": "heatmap"
           }
          ],
          "heatmapgl": [
           {
            "colorbar": {
             "outlinewidth": 0,
             "ticks": ""
            },
            "colorscale": [
             [
              0,
              "#0d0887"
             ],
             [
              0.1111111111111111,
              "#46039f"
             ],
             [
              0.2222222222222222,
              "#7201a8"
             ],
             [
              0.3333333333333333,
              "#9c179e"
             ],
             [
              0.4444444444444444,
              "#bd3786"
             ],
             [
              0.5555555555555556,
              "#d8576b"
             ],
             [
              0.6666666666666666,
              "#ed7953"
             ],
             [
              0.7777777777777778,
              "#fb9f3a"
             ],
             [
              0.8888888888888888,
              "#fdca26"
             ],
             [
              1,
              "#f0f921"
             ]
            ],
            "type": "heatmapgl"
           }
          ],
          "histogram": [
           {
            "marker": {
             "pattern": {
              "fillmode": "overlay",
              "size": 10,
              "solidity": 0.2
             }
            },
            "type": "histogram"
           }
          ],
          "histogram2d": [
           {
            "colorbar": {
             "outlinewidth": 0,
             "ticks": ""
            },
            "colorscale": [
             [
              0,
              "#0d0887"
             ],
             [
              0.1111111111111111,
              "#46039f"
             ],
             [
              0.2222222222222222,
              "#7201a8"
             ],
             [
              0.3333333333333333,
              "#9c179e"
             ],
             [
              0.4444444444444444,
              "#bd3786"
             ],
             [
              0.5555555555555556,
              "#d8576b"
             ],
             [
              0.6666666666666666,
              "#ed7953"
             ],
             [
              0.7777777777777778,
              "#fb9f3a"
             ],
             [
              0.8888888888888888,
              "#fdca26"
             ],
             [
              1,
              "#f0f921"
             ]
            ],
            "type": "histogram2d"
           }
          ],
          "histogram2dcontour": [
           {
            "colorbar": {
             "outlinewidth": 0,
             "ticks": ""
            },
            "colorscale": [
             [
              0,
              "#0d0887"
             ],
             [
              0.1111111111111111,
              "#46039f"
             ],
             [
              0.2222222222222222,
              "#7201a8"
             ],
             [
              0.3333333333333333,
              "#9c179e"
             ],
             [
              0.4444444444444444,
              "#bd3786"
             ],
             [
              0.5555555555555556,
              "#d8576b"
             ],
             [
              0.6666666666666666,
              "#ed7953"
             ],
             [
              0.7777777777777778,
              "#fb9f3a"
             ],
             [
              0.8888888888888888,
              "#fdca26"
             ],
             [
              1,
              "#f0f921"
             ]
            ],
            "type": "histogram2dcontour"
           }
          ],
          "mesh3d": [
           {
            "colorbar": {
             "outlinewidth": 0,
             "ticks": ""
            },
            "type": "mesh3d"
           }
          ],
          "parcoords": [
           {
            "line": {
             "colorbar": {
              "outlinewidth": 0,
              "ticks": ""
             }
            },
            "type": "parcoords"
           }
          ],
          "pie": [
           {
            "automargin": true,
            "type": "pie"
           }
          ],
          "scatter": [
           {
            "fillpattern": {
             "fillmode": "overlay",
             "size": 10,
             "solidity": 0.2
            },
            "type": "scatter"
           }
          ],
          "scatter3d": [
           {
            "line": {
             "colorbar": {
              "outlinewidth": 0,
              "ticks": ""
             }
            },
            "marker": {
             "colorbar": {
              "outlinewidth": 0,
              "ticks": ""
             }
            },
            "type": "scatter3d"
           }
          ],
          "scattercarpet": [
           {
            "marker": {
             "colorbar": {
              "outlinewidth": 0,
              "ticks": ""
             }
            },
            "type": "scattercarpet"
           }
          ],
          "scattergeo": [
           {
            "marker": {
             "colorbar": {
              "outlinewidth": 0,
              "ticks": ""
             }
            },
            "type": "scattergeo"
           }
          ],
          "scattergl": [
           {
            "marker": {
             "colorbar": {
              "outlinewidth": 0,
              "ticks": ""
             }
            },
            "type": "scattergl"
           }
          ],
          "scattermapbox": [
           {
            "marker": {
             "colorbar": {
              "outlinewidth": 0,
              "ticks": ""
             }
            },
            "type": "scattermapbox"
           }
          ],
          "scatterpolar": [
           {
            "marker": {
             "colorbar": {
              "outlinewidth": 0,
              "ticks": ""
             }
            },
            "type": "scatterpolar"
           }
          ],
          "scatterpolargl": [
           {
            "marker": {
             "colorbar": {
              "outlinewidth": 0,
              "ticks": ""
             }
            },
            "type": "scatterpolargl"
           }
          ],
          "scatterternary": [
           {
            "marker": {
             "colorbar": {
              "outlinewidth": 0,
              "ticks": ""
             }
            },
            "type": "scatterternary"
           }
          ],
          "surface": [
           {
            "colorbar": {
             "outlinewidth": 0,
             "ticks": ""
            },
            "colorscale": [
             [
              0,
              "#0d0887"
             ],
             [
              0.1111111111111111,
              "#46039f"
             ],
             [
              0.2222222222222222,
              "#7201a8"
             ],
             [
              0.3333333333333333,
              "#9c179e"
             ],
             [
              0.4444444444444444,
              "#bd3786"
             ],
             [
              0.5555555555555556,
              "#d8576b"
             ],
             [
              0.6666666666666666,
              "#ed7953"
             ],
             [
              0.7777777777777778,
              "#fb9f3a"
             ],
             [
              0.8888888888888888,
              "#fdca26"
             ],
             [
              1,
              "#f0f921"
             ]
            ],
            "type": "surface"
           }
          ],
          "table": [
           {
            "cells": {
             "fill": {
              "color": "#EBF0F8"
             },
             "line": {
              "color": "white"
             }
            },
            "header": {
             "fill": {
              "color": "#C8D4E3"
             },
             "line": {
              "color": "white"
             }
            },
            "type": "table"
           }
          ]
         },
         "layout": {
          "annotationdefaults": {
           "arrowcolor": "#2a3f5f",
           "arrowhead": 0,
           "arrowwidth": 1
          },
          "autotypenumbers": "strict",
          "coloraxis": {
           "colorbar": {
            "outlinewidth": 0,
            "ticks": ""
           }
          },
          "colorscale": {
           "diverging": [
            [
             0,
             "#8e0152"
            ],
            [
             0.1,
             "#c51b7d"
            ],
            [
             0.2,
             "#de77ae"
            ],
            [
             0.3,
             "#f1b6da"
            ],
            [
             0.4,
             "#fde0ef"
            ],
            [
             0.5,
             "#f7f7f7"
            ],
            [
             0.6,
             "#e6f5d0"
            ],
            [
             0.7,
             "#b8e186"
            ],
            [
             0.8,
             "#7fbc41"
            ],
            [
             0.9,
             "#4d9221"
            ],
            [
             1,
             "#276419"
            ]
           ],
           "sequential": [
            [
             0,
             "#0d0887"
            ],
            [
             0.1111111111111111,
             "#46039f"
            ],
            [
             0.2222222222222222,
             "#7201a8"
            ],
            [
             0.3333333333333333,
             "#9c179e"
            ],
            [
             0.4444444444444444,
             "#bd3786"
            ],
            [
             0.5555555555555556,
             "#d8576b"
            ],
            [
             0.6666666666666666,
             "#ed7953"
            ],
            [
             0.7777777777777778,
             "#fb9f3a"
            ],
            [
             0.8888888888888888,
             "#fdca26"
            ],
            [
             1,
             "#f0f921"
            ]
           ],
           "sequentialminus": [
            [
             0,
             "#0d0887"
            ],
            [
             0.1111111111111111,
             "#46039f"
            ],
            [
             0.2222222222222222,
             "#7201a8"
            ],
            [
             0.3333333333333333,
             "#9c179e"
            ],
            [
             0.4444444444444444,
             "#bd3786"
            ],
            [
             0.5555555555555556,
             "#d8576b"
            ],
            [
             0.6666666666666666,
             "#ed7953"
            ],
            [
             0.7777777777777778,
             "#fb9f3a"
            ],
            [
             0.8888888888888888,
             "#fdca26"
            ],
            [
             1,
             "#f0f921"
            ]
           ]
          },
          "colorway": [
           "#636efa",
           "#EF553B",
           "#00cc96",
           "#ab63fa",
           "#FFA15A",
           "#19d3f3",
           "#FF6692",
           "#B6E880",
           "#FF97FF",
           "#FECB52"
          ],
          "font": {
           "color": "#2a3f5f"
          },
          "geo": {
           "bgcolor": "white",
           "lakecolor": "white",
           "landcolor": "#E5ECF6",
           "showlakes": true,
           "showland": true,
           "subunitcolor": "white"
          },
          "hoverlabel": {
           "align": "left"
          },
          "hovermode": "closest",
          "mapbox": {
           "style": "light"
          },
          "paper_bgcolor": "white",
          "plot_bgcolor": "#E5ECF6",
          "polar": {
           "angularaxis": {
            "gridcolor": "white",
            "linecolor": "white",
            "ticks": ""
           },
           "bgcolor": "#E5ECF6",
           "radialaxis": {
            "gridcolor": "white",
            "linecolor": "white",
            "ticks": ""
           }
          },
          "scene": {
           "xaxis": {
            "backgroundcolor": "#E5ECF6",
            "gridcolor": "white",
            "gridwidth": 2,
            "linecolor": "white",
            "showbackground": true,
            "ticks": "",
            "zerolinecolor": "white"
           },
           "yaxis": {
            "backgroundcolor": "#E5ECF6",
            "gridcolor": "white",
            "gridwidth": 2,
            "linecolor": "white",
            "showbackground": true,
            "ticks": "",
            "zerolinecolor": "white"
           },
           "zaxis": {
            "backgroundcolor": "#E5ECF6",
            "gridcolor": "white",
            "gridwidth": 2,
            "linecolor": "white",
            "showbackground": true,
            "ticks": "",
            "zerolinecolor": "white"
           }
          },
          "shapedefaults": {
           "line": {
            "color": "#2a3f5f"
           }
          },
          "ternary": {
           "aaxis": {
            "gridcolor": "white",
            "linecolor": "white",
            "ticks": ""
           },
           "baxis": {
            "gridcolor": "white",
            "linecolor": "white",
            "ticks": ""
           },
           "bgcolor": "#E5ECF6",
           "caxis": {
            "gridcolor": "white",
            "linecolor": "white",
            "ticks": ""
           }
          },
          "title": {
           "x": 0.05
          },
          "xaxis": {
           "automargin": true,
           "gridcolor": "white",
           "linecolor": "white",
           "ticks": "",
           "title": {
            "standoff": 15
           },
           "zerolinecolor": "white",
           "zerolinewidth": 2
          },
          "yaxis": {
           "automargin": true,
           "gridcolor": "white",
           "linecolor": "white",
           "ticks": "",
           "title": {
            "standoff": 15
           },
           "zerolinecolor": "white",
           "zerolinewidth": 2
          }
         }
        },
        "title": {
         "text": " "
        },
        "xaxis": {
         "autorange": true,
         "range": [
          -0.5,
          3.5
         ],
         "type": "category"
        },
        "yaxis": {
         "autorange": true,
         "range": [
          0,
          193.68421052631578
         ],
         "type": "linear"
        }
       }
      },
      "image/png": "[encoded data removed]",
      "text/html": [
       "<div>                            <div id=\"90b60da4-f002-433a-b112-0e47a3544d42\" class=\"plotly-graph-div\" style=\"height:525px; width:100%;\"></div>            <script type=\"text/javascript\">                require([\"plotly\"], function(Plotly) {                    window.PLOTLYENV=window.PLOTLYENV || {};                                    if (document.getElementById(\"90b60da4-f002-433a-b112-0e47a3544d42\")) {                    Plotly.newPlot(                        \"90b60da4-f002-433a-b112-0e47a3544d42\",                        [{\"x\":[\"True Positive\",\"True Negative\",\"False Positive\",\"False Negative\"],\"y\":[152,184,131,163],\"type\":\"bar\"}],                        {\"title\":{\"text\":\" \"},\"template\":{\"data\":{\"histogram2dcontour\":[{\"type\":\"histogram2dcontour\",\"colorbar\":{\"outlinewidth\":0,\"ticks\":\"\"},\"colorscale\":[[0.0,\"#0d0887\"],[0.1111111111111111,\"#46039f\"],[0.2222222222222222,\"#7201a8\"],[0.3333333333333333,\"#9c179e\"],[0.4444444444444444,\"#bd3786\"],[0.5555555555555556,\"#d8576b\"],[0.6666666666666666,\"#ed7953\"],[0.7777777777777778,\"#fb9f3a\"],[0.8888888888888888,\"#fdca26\"],[1.0,\"#f0f921\"]]}],\"choropleth\":[{\"type\":\"choropleth\",\"colorbar\":{\"outlinewidth\":0,\"ticks\":\"\"}}],\"histogram2d\":[{\"type\":\"histogram2d\",\"colorbar\":{\"outlinewidth\":0,\"ticks\":\"\"},\"colorscale\":[[0.0,\"#0d0887\"],[0.1111111111111111,\"#46039f\"],[0.2222222222222222,\"#7201a8\"],[0.3333333333333333,\"#9c179e\"],[0.4444444444444444,\"#bd3786\"],[0.5555555555555556,\"#d8576b\"],[0.6666666666666666,\"#ed7953\"],[0.7777777777777778,\"#fb9f3a\"],[0.8888888888888888,\"#fdca26\"],[1.0,\"#f0f921\"]]}],\"heatmap\":[{\"type\":\"heatmap\",\"colorbar\":{\"outlinewidth\":0,\"ticks\":\"\"},\"colorscale\":[[0.0,\"#0d0887\"],[0.1111111111111111,\"#46039f\"],[0.2222222222222222,\"#7201a8\"],[0.3333333333333333,\"#9c179e\"],[0.4444444444444444,\"#bd3786\"],[0.5555555555555556,\"#d8576b\"],[0.6666666666666666,\"#ed7953\"],[0.7777777777777778,\"#fb9f3a\"],[0.8888888888888888,\"#fdca26\"],[1.0,\"#f0f921\"]]}],\"heatmapgl\":[{\"type\":\"heatmapgl\",\"colorbar\":{\"outlinewidth\":0,\"ticks\":\"\"},\"colorscale\":[[0.0,\"#0d0887\"],[0.1111111111111111,\"#46039f\"],[0.2222222222222222,\"#7201a8\"],[0.3333333333333333,\"#9c179e\"],[0.4444444444444444,\"#bd3786\"],[0.5555555555555556,\"#d8576b\"],[0.6666666666666666,\"#ed7953\"],[0.7777777777777778,\"#fb9f3a\"],[0.8888888888888888,\"#fdca26\"],[1.0,\"#f0f921\"]]}],\"contourcarpet\":[{\"type\":\"contourcarpet\",\"colorbar\":{\"outlinewidth\":0,\"ticks\":\"\"}}],\"contour\":[{\"type\":\"contour\",\"colorbar\":{\"outlinewidth\":0,\"ticks\":\"\"},\"colorscale\":[[0.0,\"#0d0887\"],[0.1111111111111111,\"#46039f\"],[0.2222222222222222,\"#7201a8\"],[0.3333333333333333,\"#9c179e\"],[0.4444444444444444,\"#bd3786\"],[0.5555555555555556,\"#d8576b\"],[0.6666666666666666,\"#ed7953\"],[0.7777777777777778,\"#fb9f3a\"],[0.8888888888888888,\"#fdca26\"],[1.0,\"#f0f921\"]]}],\"surface\":[{\"type\":\"surface\",\"colorbar\":{\"outlinewidth\":0,\"ticks\":\"\"},\"colorscale\":[[0.0,\"#0d0887\"],[0.1111111111111111,\"#46039f\"],[0.2222222222222222,\"#7201a8\"],[0.3333333333333333,\"#9c179e\"],[0.4444444444444444,\"#bd3786\"],[0.5555555555555556,\"#d8576b\"],[0.6666666666666666,\"#ed7953\"],[0.7777777777777778,\"#fb9f3a\"],[0.8888888888888888,\"#fdca26\"],[1.0,\"#f0f921\"]]}],\"mesh3d\":[{\"type\":\"mesh3d\",\"colorbar\":{\"outlinewidth\":0,\"ticks\":\"\"}}],\"scatter\":[{\"fillpattern\":{\"fillmode\":\"overlay\",\"size\":10,\"solidity\":0.2},\"type\":\"scatter\"}],\"parcoords\":[{\"type\":\"parcoords\",\"line\":{\"colorbar\":{\"outlinewidth\":0,\"ticks\":\"\"}}}],\"scatterpolargl\":[{\"type\":\"scatterpolargl\",\"marker\":{\"colorbar\":{\"outlinewidth\":0,\"ticks\":\"\"}}}],\"bar\":[{\"error_x\":{\"color\":\"#2a3f5f\"},\"error_y\":{\"color\":\"#2a3f5f\"},\"marker\":{\"line\":{\"color\":\"#E5ECF6\",\"width\":0.5},\"pattern\":{\"fillmode\":\"overlay\",\"size\":10,\"solidity\":0.2}},\"type\":\"bar\"}],\"scattergeo\":[{\"type\":\"scattergeo\",\"marker\":{\"colorbar\":{\"outlinewidth\":0,\"ticks\":\"\"}}}],\"scatterpolar\":[{\"type\":\"scatterpolar\",\"marker\":{\"colorbar\":{\"outlinewidth\":0,\"ticks\":\"\"}}}],\"histogram\":[{\"marker\":{\"pattern\":{\"fillmode\":\"overlay\",\"size\":10,\"solidity\":0.2}},\"type\":\"histogram\"}],\"scattergl\":[{\"type\":\"scattergl\",\"marker\":{\"colorbar\":{\"outlinewidth\":0,\"ticks\":\"\"}}}],\"scatter3d\":[{\"type\":\"scatter3d\",\"line\":{\"colorbar\":{\"outlinewidth\":0,\"ticks\":\"\"}},\"marker\":{\"colorbar\":{\"outlinewidth\":0,\"ticks\":\"\"}}}],\"scattermapbox\":[{\"type\":\"scattermapbox\",\"marker\":{\"colorbar\":{\"outlinewidth\":0,\"ticks\":\"\"}}}],\"scatterternary\":[{\"type\":\"scatterternary\",\"marker\":{\"colorbar\":{\"outlinewidth\":0,\"ticks\":\"\"}}}],\"scattercarpet\":[{\"type\":\"scattercarpet\",\"marker\":{\"colorbar\":{\"outlinewidth\":0,\"ticks\":\"\"}}}],\"carpet\":[{\"aaxis\":{\"endlinecolor\":\"#2a3f5f\",\"gridcolor\":\"white\",\"linecolor\":\"white\",\"minorgridcolor\":\"white\",\"startlinecolor\":\"#2a3f5f\"},\"baxis\":{\"endlinecolor\":\"#2a3f5f\",\"gridcolor\":\"white\",\"linecolor\":\"white\",\"minorgridcolor\":\"white\",\"startlinecolor\":\"#2a3f5f\"},\"type\":\"carpet\"}],\"table\":[{\"cells\":{\"fill\":{\"color\":\"#EBF0F8\"},\"line\":{\"color\":\"white\"}},\"header\":{\"fill\":{\"color\":\"#C8D4E3\"},\"line\":{\"color\":\"white\"}},\"type\":\"table\"}],\"barpolar\":[{\"marker\":{\"line\":{\"color\":\"#E5ECF6\",\"width\":0.5},\"pattern\":{\"fillmode\":\"overlay\",\"size\":10,\"solidity\":0.2}},\"type\":\"barpolar\"}],\"pie\":[{\"automargin\":true,\"type\":\"pie\"}]},\"layout\":{\"autotypenumbers\":\"strict\",\"colorway\":[\"#636efa\",\"#EF553B\",\"#00cc96\",\"#ab63fa\",\"#FFA15A\",\"#19d3f3\",\"#FF6692\",\"#B6E880\",\"#FF97FF\",\"#FECB52\"],\"font\":{\"color\":\"#2a3f5f\"},\"hovermode\":\"closest\",\"hoverlabel\":{\"align\":\"left\"},\"paper_bgcolor\":\"white\",\"plot_bgcolor\":\"#E5ECF6\",\"polar\":{\"bgcolor\":\"#E5ECF6\",\"angularaxis\":{\"gridcolor\":\"white\",\"linecolor\":\"white\",\"ticks\":\"\"},\"radialaxis\":{\"gridcolor\":\"white\",\"linecolor\":\"white\",\"ticks\":\"\"}},\"ternary\":{\"bgcolor\":\"#E5ECF6\",\"aaxis\":{\"gridcolor\":\"white\",\"linecolor\":\"white\",\"ticks\":\"\"},\"baxis\":{\"gridcolor\":\"white\",\"linecolor\":\"white\",\"ticks\":\"\"},\"caxis\":{\"gridcolor\":\"white\",\"linecolor\":\"white\",\"ticks\":\"\"}},\"coloraxis\":{\"colorbar\":{\"outlinewidth\":0,\"ticks\":\"\"}},\"colorscale\":{\"sequential\":[[0.0,\"#0d0887\"],[0.1111111111111111,\"#46039f\"],[0.2222222222222222,\"#7201a8\"],[0.3333333333333333,\"#9c179e\"],[0.4444444444444444,\"#bd3786\"],[0.5555555555555556,\"#d8576b\"],[0.6666666666666666,\"#ed7953\"],[0.7777777777777778,\"#fb9f3a\"],[0.8888888888888888,\"#fdca26\"],[1.0,\"#f0f921\"]],\"sequentialminus\":[[0.0,\"#0d0887\"],[0.1111111111111111,\"#46039f\"],[0.2222222222222222,\"#7201a8\"],[0.3333333333333333,\"#9c179e\"],[0.4444444444444444,\"#bd3786\"],[0.5555555555555556,\"#d8576b\"],[0.6666666666666666,\"#ed7953\"],[0.7777777777777778,\"#fb9f3a\"],[0.8888888888888888,\"#fdca26\"],[1.0,\"#f0f921\"]],\"diverging\":[[0,\"#8e0152\"],[0.1,\"#c51b7d\"],[0.2,\"#de77ae\"],[0.3,\"#f1b6da\"],[0.4,\"#fde0ef\"],[0.5,\"#f7f7f7\"],[0.6,\"#e6f5d0\"],[0.7,\"#b8e186\"],[0.8,\"#7fbc41\"],[0.9,\"#4d9221\"],[1,\"#276419\"]]},\"xaxis\":{\"gridcolor\":\"white\",\"linecolor\":\"white\",\"ticks\":\"\",\"title\":{\"standoff\":15},\"zerolinecolor\":\"white\",\"automargin\":true,\"zerolinewidth\":2},\"yaxis\":{\"gridcolor\":\"white\",\"linecolor\":\"white\",\"ticks\":\"\",\"title\":{\"standoff\":15},\"zerolinecolor\":\"white\",\"automargin\":true,\"zerolinewidth\":2},\"scene\":{\"xaxis\":{\"backgroundcolor\":\"#E5ECF6\",\"gridcolor\":\"white\",\"linecolor\":\"white\",\"showbackground\":true,\"ticks\":\"\",\"zerolinecolor\":\"white\",\"gridwidth\":2},\"yaxis\":{\"backgroundcolor\":\"#E5ECF6\",\"gridcolor\":\"white\",\"linecolor\":\"white\",\"showbackground\":true,\"ticks\":\"\",\"zerolinecolor\":\"white\",\"gridwidth\":2},\"zaxis\":{\"backgroundcolor\":\"#E5ECF6\",\"gridcolor\":\"white\",\"linecolor\":\"white\",\"showbackground\":true,\"ticks\":\"\",\"zerolinecolor\":\"white\",\"gridwidth\":2}},\"shapedefaults\":{\"line\":{\"color\":\"#2a3f5f\"}},\"annotationdefaults\":{\"arrowcolor\":\"#2a3f5f\",\"arrowhead\":0,\"arrowwidth\":1},\"geo\":{\"bgcolor\":\"white\",\"landcolor\":\"#E5ECF6\",\"subunitcolor\":\"white\",\"showland\":true,\"showlakes\":true,\"lakecolor\":\"white\"},\"title\":{\"x\":0.05},\"mapbox\":{\"style\":\"light\"}}}},                        {\"responsive\": true}                    ).then(function(){\n",
       "                            \n",
       "var gd = document.getElementById('90b60da4-f002-433a-b112-0e47a3544d42');\n",
       "var x = new MutationObserver(function (mutations, observer) {{\n",
       "        var display = window.getComputedStyle(gd).display;\n",
       "        if (!display || display === 'none') {{\n",
       "            console.log([gd, 'removed!']);\n",
       "            Plotly.purge(gd);\n",
       "            observer.disconnect();\n",
       "        }}\n",
       "}});\n",
       "\n",
       "// Listen for the removal of the full notebook cells\n",
       "var notebookContainer = gd.closest('#notebook-container');\n",
       "if (notebookContainer) {{\n",
       "    x.observe(notebookContainer, {childList: true});\n",
       "}}\n",
       "\n",
       "// Listen for the clearing of the current output cell\n",
       "var outputEl = gd.closest('.output');\n",
       "if (outputEl) {{\n",
       "    x.observe(outputEl, {childList: true});\n",
       "}}\n",
       "\n",
       "                        })                };                });            </script>        </div>"
      ]
     },
     "metadata": {},
     "output_type": "display_data"
    }
   ],
   "source": [
    "fig = dict({\n",
    "    \"data\": [{\"type\": \"bar\",\n",
    "              \"x\": ['True Positive', 'True Negative', 'False Positive', 'False Negative'],\n",
    "              \"y\": [152, 184, 131, 163]}],\n",
    "    \"layout\": {\"title\": {\"text\": \" \"}}\n",
    "})\n",
    "\n",
    "pio.show(fig)\n"
   ]
  },
  {
   "cell_type": "code",
   "execution_count": 66,
   "id": "0853ed9e",
   "metadata": {},
   "outputs": [
    {
     "name": "stdout",
     "output_type": "stream",
     "text": [
      "        confusion    counts                    \n",
      "                       mean       std       sem\n",
      "0  False negative  7.761905  2.547641  0.555941\n",
      "1  False positive  6.238095  2.119074  0.462420\n",
      "2   True negative  8.761905  2.119074  0.462420\n",
      "3   True positive  7.238095  2.547641  0.555941\n",
      "        confusion      mean       std       sem\n",
      "0  False negative  7.761905  2.547641  0.555941\n",
      "1  False positive  6.238095  2.119074  0.462420\n",
      "2   True negative  8.761905  2.119074  0.462420\n",
      "3   True positive  7.238095  2.547641  0.555941\n"
     ]
    },
    {
     "data": {
      "application/vnd.plotly.v1+json": {
       "config": {
        "plotlyServerURL": "https://plot.ly"
       },
       "data": [
        {
         "alignmentgroup": "True",
         "error_y": {
          "array": [
           0.5559409094360482,
           0.4624199385261035,
           0.4624199385261034,
           0.5559409094360483
          ]
         },
         "hovertemplate": "Classification=%{x}<br>Mean count=%{y}<extra></extra>",
         "legendgroup": "",
         "marker": {
          "color": "rgb(158,202,225)",
          "line": {
           "color": "rgb(8,48,107)",
           "width": 1.5
          },
          "pattern": {
           "shape": ""
          }
         },
         "name": "",
         "offsetgroup": "",
         "opacity": 0.6,
         "orientation": "v",
         "showlegend": false,
         "textposition": "auto",
         "type": "bar",
         "x": [
          "False negative",
          "False positive",
          "True negative",
          "True positive"
         ],
         "xaxis": "x",
         "y": [
          7.761904761904762,
          6.238095238095238,
          8.761904761904763,
          7.238095238095238
         ],
         "yaxis": "y"
        }
       ],
       "layout": {
        "autosize": true,
        "barmode": "relative",
        "dragmode": "lasso",
        "legend": {
         "tracegroupgap": 0
        },
        "margin": {
         "t": 60
        },
        "template": {
         "data": {
          "bar": [
           {
            "error_x": {
             "color": "#2a3f5f"
            },
            "error_y": {
             "color": "#2a3f5f"
            },
            "marker": {
             "line": {
              "color": "#E5ECF6",
              "width": 0.5
             },
             "pattern": {
              "fillmode": "overlay",
              "size": 10,
              "solidity": 0.2
             }
            },
            "type": "bar"
           }
          ],
          "barpolar": [
           {
            "marker": {
             "line": {
              "color": "#E5ECF6",
              "width": 0.5
             },
             "pattern": {
              "fillmode": "overlay",
              "size": 10,
              "solidity": 0.2
             }
            },
            "type": "barpolar"
           }
          ],
          "carpet": [
           {
            "aaxis": {
             "endlinecolor": "#2a3f5f",
             "gridcolor": "white",
             "linecolor": "white",
             "minorgridcolor": "white",
             "startlinecolor": "#2a3f5f"
            },
            "baxis": {
             "endlinecolor": "#2a3f5f",
             "gridcolor": "white",
             "linecolor": "white",
             "minorgridcolor": "white",
             "startlinecolor": "#2a3f5f"
            },
            "type": "carpet"
           }
          ],
          "choropleth": [
           {
            "colorbar": {
             "outlinewidth": 0,
             "ticks": ""
            },
            "type": "choropleth"
           }
          ],
          "contour": [
           {
            "colorbar": {
             "outlinewidth": 0,
             "ticks": ""
            },
            "colorscale": [
             [
              0,
              "#0d0887"
             ],
             [
              0.1111111111111111,
              "#46039f"
             ],
             [
              0.2222222222222222,
              "#7201a8"
             ],
             [
              0.3333333333333333,
              "#9c179e"
             ],
             [
              0.4444444444444444,
              "#bd3786"
             ],
             [
              0.5555555555555556,
              "#d8576b"
             ],
             [
              0.6666666666666666,
              "#ed7953"
             ],
             [
              0.7777777777777778,
              "#fb9f3a"
             ],
             [
              0.8888888888888888,
              "#fdca26"
             ],
             [
              1,
              "#f0f921"
             ]
            ],
            "type": "contour"
           }
          ],
          "contourcarpet": [
           {
            "colorbar": {
             "outlinewidth": 0,
             "ticks": ""
            },
            "type": "contourcarpet"
           }
          ],
          "heatmap": [
           {
            "colorbar": {
             "outlinewidth": 0,
             "ticks": ""
            },
            "colorscale": [
             [
              0,
              "#0d0887"
             ],
             [
              0.1111111111111111,
              "#46039f"
             ],
             [
              0.2222222222222222,
              "#7201a8"
             ],
             [
              0.3333333333333333,
              "#9c179e"
             ],
             [
              0.4444444444444444,
              "#bd3786"
             ],
             [
              0.5555555555555556,
              "#d8576b"
             ],
             [
              0.6666666666666666,
              "#ed7953"
             ],
             [
              0.7777777777777778,
              "#fb9f3a"
             ],
             [
              0.8888888888888888,
              "#fdca26"
             ],
             [
              1,
              "#f0f921"
             ]
            ],
            "type": "heatmap"
           }
          ],
          "heatmapgl": [
           {
            "colorbar": {
             "outlinewidth": 0,
             "ticks": ""
            },
            "colorscale": [
             [
              0,
              "#0d0887"
             ],
             [
              0.1111111111111111,
              "#46039f"
             ],
             [
              0.2222222222222222,
              "#7201a8"
             ],
             [
              0.3333333333333333,
              "#9c179e"
             ],
             [
              0.4444444444444444,
              "#bd3786"
             ],
             [
              0.5555555555555556,
              "#d8576b"
             ],
             [
              0.6666666666666666,
              "#ed7953"
             ],
             [
              0.7777777777777778,
              "#fb9f3a"
             ],
             [
              0.8888888888888888,
              "#fdca26"
             ],
             [
              1,
              "#f0f921"
             ]
            ],
            "type": "heatmapgl"
           }
          ],
          "histogram": [
           {
            "marker": {
             "pattern": {
              "fillmode": "overlay",
              "size": 10,
              "solidity": 0.2
             }
            },
            "type": "histogram"
           }
          ],
          "histogram2d": [
           {
            "colorbar": {
             "outlinewidth": 0,
             "ticks": ""
            },
            "colorscale": [
             [
              0,
              "#0d0887"
             ],
             [
              0.1111111111111111,
              "#46039f"
             ],
             [
              0.2222222222222222,
              "#7201a8"
             ],
             [
              0.3333333333333333,
              "#9c179e"
             ],
             [
              0.4444444444444444,
              "#bd3786"
             ],
             [
              0.5555555555555556,
              "#d8576b"
             ],
             [
              0.6666666666666666,
              "#ed7953"
             ],
             [
              0.7777777777777778,
              "#fb9f3a"
             ],
             [
              0.8888888888888888,
              "#fdca26"
             ],
             [
              1,
              "#f0f921"
             ]
            ],
            "type": "histogram2d"
           }
          ],
          "histogram2dcontour": [
           {
            "colorbar": {
             "outlinewidth": 0,
             "ticks": ""
            },
            "colorscale": [
             [
              0,
              "#0d0887"
             ],
             [
              0.1111111111111111,
              "#46039f"
             ],
             [
              0.2222222222222222,
              "#7201a8"
             ],
             [
              0.3333333333333333,
              "#9c179e"
             ],
             [
              0.4444444444444444,
              "#bd3786"
             ],
             [
              0.5555555555555556,
              "#d8576b"
             ],
             [
              0.6666666666666666,
              "#ed7953"
             ],
             [
              0.7777777777777778,
              "#fb9f3a"
             ],
             [
              0.8888888888888888,
              "#fdca26"
             ],
             [
              1,
              "#f0f921"
             ]
            ],
            "type": "histogram2dcontour"
           }
          ],
          "mesh3d": [
           {
            "colorbar": {
             "outlinewidth": 0,
             "ticks": ""
            },
            "type": "mesh3d"
           }
          ],
          "parcoords": [
           {
            "line": {
             "colorbar": {
              "outlinewidth": 0,
              "ticks": ""
             }
            },
            "type": "parcoords"
           }
          ],
          "pie": [
           {
            "automargin": true,
            "type": "pie"
           }
          ],
          "scatter": [
           {
            "fillpattern": {
             "fillmode": "overlay",
             "size": 10,
             "solidity": 0.2
            },
            "type": "scatter"
           }
          ],
          "scatter3d": [
           {
            "line": {
             "colorbar": {
              "outlinewidth": 0,
              "ticks": ""
             }
            },
            "marker": {
             "colorbar": {
              "outlinewidth": 0,
              "ticks": ""
             }
            },
            "type": "scatter3d"
           }
          ],
          "scattercarpet": [
           {
            "marker": {
             "colorbar": {
              "outlinewidth": 0,
              "ticks": ""
             }
            },
            "type": "scattercarpet"
           }
          ],
          "scattergeo": [
           {
            "marker": {
             "colorbar": {
              "outlinewidth": 0,
              "ticks": ""
             }
            },
            "type": "scattergeo"
           }
          ],
          "scattergl": [
           {
            "marker": {
             "colorbar": {
              "outlinewidth": 0,
              "ticks": ""
             }
            },
            "type": "scattergl"
           }
          ],
          "scattermapbox": [
           {
            "marker": {
             "colorbar": {
              "outlinewidth": 0,
              "ticks": ""
             }
            },
            "type": "scattermapbox"
           }
          ],
          "scatterpolar": [
           {
            "marker": {
             "colorbar": {
              "outlinewidth": 0,
              "ticks": ""
             }
            },
            "type": "scatterpolar"
           }
          ],
          "scatterpolargl": [
           {
            "marker": {
             "colorbar": {
              "outlinewidth": 0,
              "ticks": ""
             }
            },
            "type": "scatterpolargl"
           }
          ],
          "scatterternary": [
           {
            "marker": {
             "colorbar": {
              "outlinewidth": 0,
              "ticks": ""
             }
            },
            "type": "scatterternary"
           }
          ],
          "surface": [
           {
            "colorbar": {
             "outlinewidth": 0,
             "ticks": ""
            },
            "colorscale": [
             [
              0,
              "#0d0887"
             ],
             [
              0.1111111111111111,
              "#46039f"
             ],
             [
              0.2222222222222222,
              "#7201a8"
             ],
             [
              0.3333333333333333,
              "#9c179e"
             ],
             [
              0.4444444444444444,
              "#bd3786"
             ],
             [
              0.5555555555555556,
              "#d8576b"
             ],
             [
              0.6666666666666666,
              "#ed7953"
             ],
             [
              0.7777777777777778,
              "#fb9f3a"
             ],
             [
              0.8888888888888888,
              "#fdca26"
             ],
             [
              1,
              "#f0f921"
             ]
            ],
            "type": "surface"
           }
          ],
          "table": [
           {
            "cells": {
             "fill": {
              "color": "#EBF0F8"
             },
             "line": {
              "color": "white"
             }
            },
            "header": {
             "fill": {
              "color": "#C8D4E3"
             },
             "line": {
              "color": "white"
             }
            },
            "type": "table"
           }
          ]
         },
         "layout": {
          "annotationdefaults": {
           "arrowcolor": "#2a3f5f",
           "arrowhead": 0,
           "arrowwidth": 1
          },
          "autotypenumbers": "strict",
          "coloraxis": {
           "colorbar": {
            "outlinewidth": 0,
            "ticks": ""
           }
          },
          "colorscale": {
           "diverging": [
            [
             0,
             "#8e0152"
            ],
            [
             0.1,
             "#c51b7d"
            ],
            [
             0.2,
             "#de77ae"
            ],
            [
             0.3,
             "#f1b6da"
            ],
            [
             0.4,
             "#fde0ef"
            ],
            [
             0.5,
             "#f7f7f7"
            ],
            [
             0.6,
             "#e6f5d0"
            ],
            [
             0.7,
             "#b8e186"
            ],
            [
             0.8,
             "#7fbc41"
            ],
            [
             0.9,
             "#4d9221"
            ],
            [
             1,
             "#276419"
            ]
           ],
           "sequential": [
            [
             0,
             "#0d0887"
            ],
            [
             0.1111111111111111,
             "#46039f"
            ],
            [
             0.2222222222222222,
             "#7201a8"
            ],
            [
             0.3333333333333333,
             "#9c179e"
            ],
            [
             0.4444444444444444,
             "#bd3786"
            ],
            [
             0.5555555555555556,
             "#d8576b"
            ],
            [
             0.6666666666666666,
             "#ed7953"
            ],
            [
             0.7777777777777778,
             "#fb9f3a"
            ],
            [
             0.8888888888888888,
             "#fdca26"
            ],
            [
             1,
             "#f0f921"
            ]
           ],
           "sequentialminus": [
            [
             0,
             "#0d0887"
            ],
            [
             0.1111111111111111,
             "#46039f"
            ],
            [
             0.2222222222222222,
             "#7201a8"
            ],
            [
             0.3333333333333333,
             "#9c179e"
            ],
            [
             0.4444444444444444,
             "#bd3786"
            ],
            [
             0.5555555555555556,
             "#d8576b"
            ],
            [
             0.6666666666666666,
             "#ed7953"
            ],
            [
             0.7777777777777778,
             "#fb9f3a"
            ],
            [
             0.8888888888888888,
             "#fdca26"
            ],
            [
             1,
             "#f0f921"
            ]
           ]
          },
          "colorway": [
           "#636efa",
           "#EF553B",
           "#00cc96",
           "#ab63fa",
           "#FFA15A",
           "#19d3f3",
           "#FF6692",
           "#B6E880",
           "#FF97FF",
           "#FECB52"
          ],
          "font": {
           "color": "#2a3f5f"
          },
          "geo": {
           "bgcolor": "white",
           "lakecolor": "white",
           "landcolor": "#E5ECF6",
           "showlakes": true,
           "showland": true,
           "subunitcolor": "white"
          },
          "hoverlabel": {
           "align": "left"
          },
          "hovermode": "closest",
          "mapbox": {
           "style": "light"
          },
          "paper_bgcolor": "white",
          "plot_bgcolor": "#E5ECF6",
          "polar": {
           "angularaxis": {
            "gridcolor": "white",
            "linecolor": "white",
            "ticks": ""
           },
           "bgcolor": "#E5ECF6",
           "radialaxis": {
            "gridcolor": "white",
            "linecolor": "white",
            "ticks": ""
           }
          },
          "scene": {
           "xaxis": {
            "backgroundcolor": "#E5ECF6",
            "gridcolor": "white",
            "gridwidth": 2,
            "linecolor": "white",
            "showbackground": true,
            "ticks": "",
            "zerolinecolor": "white"
           },
           "yaxis": {
            "backgroundcolor": "#E5ECF6",
            "gridcolor": "white",
            "gridwidth": 2,
            "linecolor": "white",
            "showbackground": true,
            "ticks": "",
            "zerolinecolor": "white"
           },
           "zaxis": {
            "backgroundcolor": "#E5ECF6",
            "gridcolor": "white",
            "gridwidth": 2,
            "linecolor": "white",
            "showbackground": true,
            "ticks": "",
            "zerolinecolor": "white"
           }
          },
          "shapedefaults": {
           "line": {
            "color": "#2a3f5f"
           }
          },
          "ternary": {
           "aaxis": {
            "gridcolor": "white",
            "linecolor": "white",
            "ticks": ""
           },
           "baxis": {
            "gridcolor": "white",
            "linecolor": "white",
            "ticks": ""
           },
           "bgcolor": "#E5ECF6",
           "caxis": {
            "gridcolor": "white",
            "linecolor": "white",
            "ticks": ""
           }
          },
          "title": {
           "x": 0.05
          },
          "xaxis": {
           "automargin": true,
           "gridcolor": "white",
           "linecolor": "white",
           "ticks": "",
           "title": {
            "standoff": 15
           },
           "zerolinecolor": "white",
           "zerolinewidth": 2
          },
          "yaxis": {
           "automargin": true,
           "gridcolor": "white",
           "linecolor": "white",
           "ticks": "",
           "title": {
            "standoff": 15
           },
           "zerolinecolor": "white",
           "zerolinewidth": 2
          }
         }
        },
        "xaxis": {
         "anchor": "y",
         "autorange": true,
         "domain": [
          0,
          1
         ],
         "range": [
          -0.5,
          3.5
         ],
         "title": {
          "text": "Classification"
         },
         "type": "category"
        },
        "yaxis": {
         "anchor": "x",
         "autorange": true,
         "domain": [
          0,
          1
         ],
         "range": [
          0,
          9.709815474137754
         ],
         "title": {
          "text": "Mean count"
         },
         "type": "linear"
        }
       }
      },
      "image/png": "[encoded data removed]",
      "text/html": [
       "<div>                            <div id=\"ca672310-5459-4339-99c1-4ccbdcfd0ebe\" class=\"plotly-graph-div\" style=\"height:525px; width:100%;\"></div>            <script type=\"text/javascript\">                require([\"plotly\"], function(Plotly) {                    window.PLOTLYENV=window.PLOTLYENV || {};                                    if (document.getElementById(\"ca672310-5459-4339-99c1-4ccbdcfd0ebe\")) {                    Plotly.newPlot(                        \"ca672310-5459-4339-99c1-4ccbdcfd0ebe\",                        [{\"alignmentgroup\":\"True\",\"error_y\":{\"array\":[0.5559409094360482,0.4624199385261035,0.4624199385261034,0.5559409094360483]},\"hovertemplate\":\"Classification=%{x}<br>Mean count=%{y}<extra></extra>\",\"legendgroup\":\"\",\"marker\":{\"color\":\"rgb(158,202,225)\",\"pattern\":{\"shape\":\"\"},\"line\":{\"color\":\"rgb(8,48,107)\",\"width\":1.5}},\"name\":\"\",\"offsetgroup\":\"\",\"orientation\":\"v\",\"showlegend\":false,\"textposition\":\"auto\",\"x\":[\"False negative\",\"False positive\",\"True negative\",\"True positive\"],\"xaxis\":\"x\",\"y\":[7.761904761904762,6.238095238095238,8.761904761904763,7.238095238095238],\"yaxis\":\"y\",\"type\":\"bar\",\"opacity\":0.6}],                        {\"template\":{\"data\":{\"histogram2dcontour\":[{\"type\":\"histogram2dcontour\",\"colorbar\":{\"outlinewidth\":0,\"ticks\":\"\"},\"colorscale\":[[0.0,\"#0d0887\"],[0.1111111111111111,\"#46039f\"],[0.2222222222222222,\"#7201a8\"],[0.3333333333333333,\"#9c179e\"],[0.4444444444444444,\"#bd3786\"],[0.5555555555555556,\"#d8576b\"],[0.6666666666666666,\"#ed7953\"],[0.7777777777777778,\"#fb9f3a\"],[0.8888888888888888,\"#fdca26\"],[1.0,\"#f0f921\"]]}],\"choropleth\":[{\"type\":\"choropleth\",\"colorbar\":{\"outlinewidth\":0,\"ticks\":\"\"}}],\"histogram2d\":[{\"type\":\"histogram2d\",\"colorbar\":{\"outlinewidth\":0,\"ticks\":\"\"},\"colorscale\":[[0.0,\"#0d0887\"],[0.1111111111111111,\"#46039f\"],[0.2222222222222222,\"#7201a8\"],[0.3333333333333333,\"#9c179e\"],[0.4444444444444444,\"#bd3786\"],[0.5555555555555556,\"#d8576b\"],[0.6666666666666666,\"#ed7953\"],[0.7777777777777778,\"#fb9f3a\"],[0.8888888888888888,\"#fdca26\"],[1.0,\"#f0f921\"]]}],\"heatmap\":[{\"type\":\"heatmap\",\"colorbar\":{\"outlinewidth\":0,\"ticks\":\"\"},\"colorscale\":[[0.0,\"#0d0887\"],[0.1111111111111111,\"#46039f\"],[0.2222222222222222,\"#7201a8\"],[0.3333333333333333,\"#9c179e\"],[0.4444444444444444,\"#bd3786\"],[0.5555555555555556,\"#d8576b\"],[0.6666666666666666,\"#ed7953\"],[0.7777777777777778,\"#fb9f3a\"],[0.8888888888888888,\"#fdca26\"],[1.0,\"#f0f921\"]]}],\"heatmapgl\":[{\"type\":\"heatmapgl\",\"colorbar\":{\"outlinewidth\":0,\"ticks\":\"\"},\"colorscale\":[[0.0,\"#0d0887\"],[0.1111111111111111,\"#46039f\"],[0.2222222222222222,\"#7201a8\"],[0.3333333333333333,\"#9c179e\"],[0.4444444444444444,\"#bd3786\"],[0.5555555555555556,\"#d8576b\"],[0.6666666666666666,\"#ed7953\"],[0.7777777777777778,\"#fb9f3a\"],[0.8888888888888888,\"#fdca26\"],[1.0,\"#f0f921\"]]}],\"contourcarpet\":[{\"type\":\"contourcarpet\",\"colorbar\":{\"outlinewidth\":0,\"ticks\":\"\"}}],\"contour\":[{\"type\":\"contour\",\"colorbar\":{\"outlinewidth\":0,\"ticks\":\"\"},\"colorscale\":[[0.0,\"#0d0887\"],[0.1111111111111111,\"#46039f\"],[0.2222222222222222,\"#7201a8\"],[0.3333333333333333,\"#9c179e\"],[0.4444444444444444,\"#bd3786\"],[0.5555555555555556,\"#d8576b\"],[0.6666666666666666,\"#ed7953\"],[0.7777777777777778,\"#fb9f3a\"],[0.8888888888888888,\"#fdca26\"],[1.0,\"#f0f921\"]]}],\"surface\":[{\"type\":\"surface\",\"colorbar\":{\"outlinewidth\":0,\"ticks\":\"\"},\"colorscale\":[[0.0,\"#0d0887\"],[0.1111111111111111,\"#46039f\"],[0.2222222222222222,\"#7201a8\"],[0.3333333333333333,\"#9c179e\"],[0.4444444444444444,\"#bd3786\"],[0.5555555555555556,\"#d8576b\"],[0.6666666666666666,\"#ed7953\"],[0.7777777777777778,\"#fb9f3a\"],[0.8888888888888888,\"#fdca26\"],[1.0,\"#f0f921\"]]}],\"mesh3d\":[{\"type\":\"mesh3d\",\"colorbar\":{\"outlinewidth\":0,\"ticks\":\"\"}}],\"scatter\":[{\"fillpattern\":{\"fillmode\":\"overlay\",\"size\":10,\"solidity\":0.2},\"type\":\"scatter\"}],\"parcoords\":[{\"type\":\"parcoords\",\"line\":{\"colorbar\":{\"outlinewidth\":0,\"ticks\":\"\"}}}],\"scatterpolargl\":[{\"type\":\"scatterpolargl\",\"marker\":{\"colorbar\":{\"outlinewidth\":0,\"ticks\":\"\"}}}],\"bar\":[{\"error_x\":{\"color\":\"#2a3f5f\"},\"error_y\":{\"color\":\"#2a3f5f\"},\"marker\":{\"line\":{\"color\":\"#E5ECF6\",\"width\":0.5},\"pattern\":{\"fillmode\":\"overlay\",\"size\":10,\"solidity\":0.2}},\"type\":\"bar\"}],\"scattergeo\":[{\"type\":\"scattergeo\",\"marker\":{\"colorbar\":{\"outlinewidth\":0,\"ticks\":\"\"}}}],\"scatterpolar\":[{\"type\":\"scatterpolar\",\"marker\":{\"colorbar\":{\"outlinewidth\":0,\"ticks\":\"\"}}}],\"histogram\":[{\"marker\":{\"pattern\":{\"fillmode\":\"overlay\",\"size\":10,\"solidity\":0.2}},\"type\":\"histogram\"}],\"scattergl\":[{\"type\":\"scattergl\",\"marker\":{\"colorbar\":{\"outlinewidth\":0,\"ticks\":\"\"}}}],\"scatter3d\":[{\"type\":\"scatter3d\",\"line\":{\"colorbar\":{\"outlinewidth\":0,\"ticks\":\"\"}},\"marker\":{\"colorbar\":{\"outlinewidth\":0,\"ticks\":\"\"}}}],\"scattermapbox\":[{\"type\":\"scattermapbox\",\"marker\":{\"colorbar\":{\"outlinewidth\":0,\"ticks\":\"\"}}}],\"scatterternary\":[{\"type\":\"scatterternary\",\"marker\":{\"colorbar\":{\"outlinewidth\":0,\"ticks\":\"\"}}}],\"scattercarpet\":[{\"type\":\"scattercarpet\",\"marker\":{\"colorbar\":{\"outlinewidth\":0,\"ticks\":\"\"}}}],\"carpet\":[{\"aaxis\":{\"endlinecolor\":\"#2a3f5f\",\"gridcolor\":\"white\",\"linecolor\":\"white\",\"minorgridcolor\":\"white\",\"startlinecolor\":\"#2a3f5f\"},\"baxis\":{\"endlinecolor\":\"#2a3f5f\",\"gridcolor\":\"white\",\"linecolor\":\"white\",\"minorgridcolor\":\"white\",\"startlinecolor\":\"#2a3f5f\"},\"type\":\"carpet\"}],\"table\":[{\"cells\":{\"fill\":{\"color\":\"#EBF0F8\"},\"line\":{\"color\":\"white\"}},\"header\":{\"fill\":{\"color\":\"#C8D4E3\"},\"line\":{\"color\":\"white\"}},\"type\":\"table\"}],\"barpolar\":[{\"marker\":{\"line\":{\"color\":\"#E5ECF6\",\"width\":0.5},\"pattern\":{\"fillmode\":\"overlay\",\"size\":10,\"solidity\":0.2}},\"type\":\"barpolar\"}],\"pie\":[{\"automargin\":true,\"type\":\"pie\"}]},\"layout\":{\"autotypenumbers\":\"strict\",\"colorway\":[\"#636efa\",\"#EF553B\",\"#00cc96\",\"#ab63fa\",\"#FFA15A\",\"#19d3f3\",\"#FF6692\",\"#B6E880\",\"#FF97FF\",\"#FECB52\"],\"font\":{\"color\":\"#2a3f5f\"},\"hovermode\":\"closest\",\"hoverlabel\":{\"align\":\"left\"},\"paper_bgcolor\":\"white\",\"plot_bgcolor\":\"#E5ECF6\",\"polar\":{\"bgcolor\":\"#E5ECF6\",\"angularaxis\":{\"gridcolor\":\"white\",\"linecolor\":\"white\",\"ticks\":\"\"},\"radialaxis\":{\"gridcolor\":\"white\",\"linecolor\":\"white\",\"ticks\":\"\"}},\"ternary\":{\"bgcolor\":\"#E5ECF6\",\"aaxis\":{\"gridcolor\":\"white\",\"linecolor\":\"white\",\"ticks\":\"\"},\"baxis\":{\"gridcolor\":\"white\",\"linecolor\":\"white\",\"ticks\":\"\"},\"caxis\":{\"gridcolor\":\"white\",\"linecolor\":\"white\",\"ticks\":\"\"}},\"coloraxis\":{\"colorbar\":{\"outlinewidth\":0,\"ticks\":\"\"}},\"colorscale\":{\"sequential\":[[0.0,\"#0d0887\"],[0.1111111111111111,\"#46039f\"],[0.2222222222222222,\"#7201a8\"],[0.3333333333333333,\"#9c179e\"],[0.4444444444444444,\"#bd3786\"],[0.5555555555555556,\"#d8576b\"],[0.6666666666666666,\"#ed7953\"],[0.7777777777777778,\"#fb9f3a\"],[0.8888888888888888,\"#fdca26\"],[1.0,\"#f0f921\"]],\"sequentialminus\":[[0.0,\"#0d0887\"],[0.1111111111111111,\"#46039f\"],[0.2222222222222222,\"#7201a8\"],[0.3333333333333333,\"#9c179e\"],[0.4444444444444444,\"#bd3786\"],[0.5555555555555556,\"#d8576b\"],[0.6666666666666666,\"#ed7953\"],[0.7777777777777778,\"#fb9f3a\"],[0.8888888888888888,\"#fdca26\"],[1.0,\"#f0f921\"]],\"diverging\":[[0,\"#8e0152\"],[0.1,\"#c51b7d\"],[0.2,\"#de77ae\"],[0.3,\"#f1b6da\"],[0.4,\"#fde0ef\"],[0.5,\"#f7f7f7\"],[0.6,\"#e6f5d0\"],[0.7,\"#b8e186\"],[0.8,\"#7fbc41\"],[0.9,\"#4d9221\"],[1,\"#276419\"]]},\"xaxis\":{\"gridcolor\":\"white\",\"linecolor\":\"white\",\"ticks\":\"\",\"title\":{\"standoff\":15},\"zerolinecolor\":\"white\",\"automargin\":true,\"zerolinewidth\":2},\"yaxis\":{\"gridcolor\":\"white\",\"linecolor\":\"white\",\"ticks\":\"\",\"title\":{\"standoff\":15},\"zerolinecolor\":\"white\",\"automargin\":true,\"zerolinewidth\":2},\"scene\":{\"xaxis\":{\"backgroundcolor\":\"#E5ECF6\",\"gridcolor\":\"white\",\"linecolor\":\"white\",\"showbackground\":true,\"ticks\":\"\",\"zerolinecolor\":\"white\",\"gridwidth\":2},\"yaxis\":{\"backgroundcolor\":\"#E5ECF6\",\"gridcolor\":\"white\",\"linecolor\":\"white\",\"showbackground\":true,\"ticks\":\"\",\"zerolinecolor\":\"white\",\"gridwidth\":2},\"zaxis\":{\"backgroundcolor\":\"#E5ECF6\",\"gridcolor\":\"white\",\"linecolor\":\"white\",\"showbackground\":true,\"ticks\":\"\",\"zerolinecolor\":\"white\",\"gridwidth\":2}},\"shapedefaults\":{\"line\":{\"color\":\"#2a3f5f\"}},\"annotationdefaults\":{\"arrowcolor\":\"#2a3f5f\",\"arrowhead\":0,\"arrowwidth\":1},\"geo\":{\"bgcolor\":\"white\",\"landcolor\":\"#E5ECF6\",\"subunitcolor\":\"white\",\"showland\":true,\"showlakes\":true,\"lakecolor\":\"white\"},\"title\":{\"x\":0.05},\"mapbox\":{\"style\":\"light\"}}},\"xaxis\":{\"anchor\":\"y\",\"domain\":[0.0,1.0],\"title\":{\"text\":\"Classification\"}},\"yaxis\":{\"anchor\":\"x\",\"domain\":[0.0,1.0],\"title\":{\"text\":\"Mean count\"}},\"legend\":{\"tracegroupgap\":0},\"margin\":{\"t\":60},\"barmode\":\"relative\"},                        {\"responsive\": true}                    ).then(function(){\n",
       "                            \n",
       "var gd = document.getElementById('ca672310-5459-4339-99c1-4ccbdcfd0ebe');\n",
       "var x = new MutationObserver(function (mutations, observer) {{\n",
       "        var display = window.getComputedStyle(gd).display;\n",
       "        if (!display || display === 'none') {{\n",
       "            console.log([gd, 'removed!']);\n",
       "            Plotly.purge(gd);\n",
       "            observer.disconnect();\n",
       "        }}\n",
       "}});\n",
       "\n",
       "// Listen for the removal of the full notebook cells\n",
       "var notebookContainer = gd.closest('#notebook-container');\n",
       "if (notebookContainer) {{\n",
       "    x.observe(notebookContainer, {childList: true});\n",
       "}}\n",
       "\n",
       "// Listen for the clearing of the current output cell\n",
       "var outputEl = gd.closest('.output');\n",
       "if (outputEl) {{\n",
       "    x.observe(outputEl, {childList: true});\n",
       "}}\n",
       "\n",
       "                        })                };                });            </script>        </div>"
      ]
     },
     "metadata": {},
     "output_type": "display_data"
    }
   ],
   "source": [
    "q_confusion = q_merged[['respondant_id', 'confusion']]\\\n",
    "                    .groupby(['respondant_id', 'confusion'])\\\n",
    "                    .size()\\\n",
    "                    .reset_index(name='counts')\\\n",
    "                    .groupby(['confusion'])\\\n",
    "                    .agg({'counts': ['mean', 'std', 'sem']})\\\n",
    "                    .reset_index()\n",
    "print(q_confusion)\n",
    "#new['confusion'] = q_confusion['confusion']\n",
    "q_confusion.columns = q_confusion.columns.droplevel()\n",
    "q_confusion = q_confusion.rename(columns={'':'confusion'})\n",
    "\n",
    "\n",
    "print(q_confusion)\n",
    "\n",
    "fig = px.bar(\n",
    "    q_confusion,\n",
    "    x='confusion',\n",
    "    y='mean',\n",
    "    error_y='sem',\n",
    "    labels={\n",
    "        'confusion': 'Classification',\n",
    "        'mean': 'Mean count',\n",
    "        'false_negative': 'False negative',\n",
    "        'false_positive': 'False positive',\n",
    "        'true_negative': 'True negative',\n",
    "        'true_positive': 'True positive'\n",
    "    }\n",
    ")\n",
    "fig.update_traces(marker_color='rgb(158,202,225)', marker_line_color='rgb(8,48,107)', marker_line_width=1.5, opacity=0.6)\n",
    "fig.show()"
   ]
  },
  {
   "cell_type": "code",
   "execution_count": null,
   "id": "c50abacc-1d56-460b-8c0a-8a9f90e88060",
   "metadata": {},
   "outputs": [],
   "source": []
  },
  {
   "cell_type": "code",
   "execution_count": 56,
   "id": "9c9c00d6-c78a-4f8c-ae13-cc2f22fcff86",
   "metadata": {},
   "outputs": [
    {
     "name": "stdout",
     "output_type": "stream",
     "text": [
      "        confusion counts        \n",
      "                    mean std sem\n",
      "0  False negative  163.0 NaN NaN\n",
      "1  False positive  131.0 NaN NaN\n",
      "2   True negative  184.0 NaN NaN\n",
      "3   True positive  152.0 NaN NaN\n"
     ]
    }
   ],
   "source": []
  },
  {
   "cell_type": "code",
   "execution_count": 30,
   "id": "75a404d5",
   "metadata": {},
   "outputs": [
    {
     "name": "stdout",
     "output_type": "stream",
     "text": [
      "(334.0362573747987, 337.9637426252013)\n"
     ]
    },
    {
     "name": "stderr",
     "output_type": "stream",
     "text": [
      "/var/folders/xz/633t8rl91gv2nrg4bvd71cxw0000gn/T/ipykernel_38637/1395170918.py:1: DeprecationWarning:\n",
      "\n",
      "Use of keyword argument `alpha` for method `interval` is deprecated. Use first positional argument or keyword argument `confidence` instead.\n",
      "\n"
     ]
    }
   ],
   "source": [
    "print(st.t.interval(alpha=0.95, df=len(q_merged)-1, loc=336))\n"
   ]
  },
  {
   "cell_type": "code",
   "execution_count": null,
   "id": "1be3cb2b-3958-4581-a42c-6a5cbf1345fe",
   "metadata": {},
   "outputs": [],
   "source": []
  },
  {
   "cell_type": "code",
   "execution_count": 31,
   "id": "f5500622",
   "metadata": {},
   "outputs": [
    {
     "name": "stdout",
     "output_type": "stream",
     "text": [
      "(292.0362573747987, 295.9637426252013)\n"
     ]
    },
    {
     "name": "stderr",
     "output_type": "stream",
     "text": [
      "/var/folders/xz/633t8rl91gv2nrg4bvd71cxw0000gn/T/ipykernel_38637/771583646.py:1: DeprecationWarning:\n",
      "\n",
      "Use of keyword argument `alpha` for method `interval` is deprecated. Use first positional argument or keyword argument `confidence` instead.\n",
      "\n"
     ]
    }
   ],
   "source": [
    "print(st.t.interval(alpha=0.95, df=len(q_merged)-1, loc=q_merged.query('correct == False').shape[0]))\n"
   ]
  },
  {
   "cell_type": "code",
   "execution_count": 32,
   "id": "adee4b8e-fd83-4a3e-9561-157dd961e3e9",
   "metadata": {},
   "outputs": [],
   "source": [
    "q_merged['sentiment'] = q_merged['question'].apply(lambda q: TextBlob(q).sentiment.polarity)"
   ]
  },
  {
   "cell_type": "code",
   "execution_count": 33,
   "id": "f4fafc6c",
   "metadata": {},
   "outputs": [
    {
     "name": "stdout",
     "output_type": "stream",
     "text": [
      "0      0.00\n",
      "1      0.00\n",
      "2      0.00\n",
      "3      0.00\n",
      "4      0.80\n",
      "       ... \n",
      "625    0.20\n",
      "626    0.25\n",
      "627    0.25\n",
      "628    0.70\n",
      "629    0.70\n",
      "Name: sentiment, Length: 630, dtype: float64\n"
     ]
    }
   ],
   "source": [
    "print(q_merged['sentiment'])"
   ]
  },
  {
   "cell_type": "code",
   "execution_count": 34,
   "id": "aec4af87-f7a4-4891-a09d-2b8d8bb95736",
   "metadata": {},
   "outputs": [],
   "source": [
    "computer = q_merged.query('generated_by == \"gpt3\"')\n",
    "computer = computer['question']\n",
    "human = q_merged.query('generated_by == \"human\"')\n",
    "human = human['question']"
   ]
  },
  {
   "cell_type": "code",
   "execution_count": 35,
   "id": "8a4ea89c-fd61-48b6-b053-dafa2f53c192",
   "metadata": {},
   "outputs": [
    {
     "name": "stderr",
     "output_type": "stream",
     "text": [
      "[nltk_data] Downloading package punkt to\n",
      "[nltk_data]     /Users/georginawhiteley/nltk_data...\n",
      "[nltk_data]   Package punkt is already up-to-date!\n"
     ]
    },
    {
     "data": {
      "text/plain": [
       "True"
      ]
     },
     "execution_count": 35,
     "metadata": {},
     "output_type": "execute_result"
    }
   ],
   "source": [
    "import nltk\n",
    "nltk.download('punkt')"
   ]
  },
  {
   "cell_type": "code",
   "execution_count": 36,
   "id": "186670ad-e02a-4449-a863-3fe82a907872",
   "metadata": {},
   "outputs": [],
   "source": [
    "\n",
    "computer = q_merged.query('generated_by == \"gpt3\"')\n",
    "computer = computer['question']\n",
    "human = q_merged.query('generated_by == \"human\"')\n",
    "human = human['question']\n",
    "human_string = human.str.cat()\n",
    "pc_string = computer.str.cat()\n",
    "human_tb = TextBlob(human_string)\n"
   ]
  },
  {
   "cell_type": "code",
   "execution_count": 37,
   "id": "87661308-49fb-4ede-82c8-0d8c07a6d531",
   "metadata": {},
   "outputs": [
    {
     "data": {
      "text/plain": [
       "312"
      ]
     },
     "execution_count": 37,
     "metadata": {},
     "output_type": "execute_result"
    }
   ],
   "source": [
    "pc_tb = TextBlob(pc_string)\n",
    "len(pc_tb.word_counts)"
   ]
  },
  {
   "cell_type": "code",
   "execution_count": 38,
   "id": "d72f2a42-f1b9-4268-9cde-d95f92772baf",
   "metadata": {},
   "outputs": [
    {
     "data": {
      "text/plain": [
       "1"
      ]
     },
     "execution_count": 38,
     "metadata": {},
     "output_type": "execute_result"
    }
   ],
   "source": [
    "human_tb.word_counts['opinion']"
   ]
  },
  {
   "cell_type": "code",
   "execution_count": 39,
   "id": "0eeec65f-163e-4784-9cbd-e84c2ae401ca",
   "metadata": {},
   "outputs": [
    {
     "name": "stdout",
     "output_type": "stream",
     "text": [
      "Human sentiment is 0.22690777576853563\n",
      "Computer sentiment is 0.27268732877428536\n"
     ]
    }
   ],
   "source": [
    "# Sentiment\n",
    "# Take the sentiment of each question & then the mean over all questions \n",
    "print(f'Human sentiment is {human_tb.sentiment.polarity}')\n",
    "print(f'Computer sentiment is {pc_tb.sentiment.polarity}')"
   ]
  },
  {
   "cell_type": "code",
   "execution_count": 40,
   "id": "cc689ce8-4edd-4108-9868-64d74ac74e68",
   "metadata": {},
   "outputs": [],
   "source": [
    "human_count = human_tb.word_counts\n",
    "pc_count = pc_tb.word_counts"
   ]
  },
  {
   "cell_type": "code",
   "execution_count": 41,
   "id": "908ec6a2-c60a-4491-b536-6895e490c581",
   "metadata": {},
   "outputs": [
    {
     "data": {
      "text/plain": [
       "list"
      ]
     },
     "execution_count": 41,
     "metadata": {},
     "output_type": "execute_result"
    }
   ],
   "source": [
    "pc_ordered_count = sorted(pc_count.items(), key = lambda x:x[1], reverse = True)\n",
    "type(pc_ordered_count)\n",
    "#pc_ordered_count[:312]"
   ]
  },
  {
   "cell_type": "code",
   "execution_count": 42,
   "id": "e17d5fc5-d806-408b-94e4-dd947374a07f",
   "metadata": {},
   "outputs": [],
   "source": [
    "# human_ordered_count = sorted(human_count.items(), key = lambda x:x[1], reverse = True)\n",
    "# type(human_ordered_count)\n",
    "# human_ordered_count[:316]"
   ]
  },
  {
   "cell_type": "code",
   "execution_count": 43,
   "id": "d222a90f-e646-4055-bc38-5023e770c2b8",
   "metadata": {},
   "outputs": [
    {
     "data": {
      "text/plain": [
       "[('you', 207),\n",
       " ('is', 153),\n",
       " ('do', 128),\n",
       " ('a', 127),\n",
       " ('think', 123),\n",
       " ('are', 89),\n",
       " ('of', 89),\n",
       " ('that', 82),\n",
       " ('the', 78),\n",
       " ('on', 77)]"
      ]
     },
     "execution_count": 43,
     "metadata": {},
     "output_type": "execute_result"
    }
   ],
   "source": [
    "pc_ordered_count = sorted(pc_count.items(), key = lambda x:x[1], reverse = True)\n",
    "pc_ordered_count[:10]"
   ]
  },
  {
   "cell_type": "code",
   "execution_count": 44,
   "id": "e1cbf338-8e10-4683-ba08-003fcbbb5138",
   "metadata": {},
   "outputs": [],
   "source": [
    "# Part of speech tagging\n",
    "#nltk.download('averaged_perceptron_tagger')\n",
    "#human_tb.tags\n",
    "# count how many times each occurs? \n"
   ]
  },
  {
   "cell_type": "code",
   "execution_count": 45,
   "id": "ccb2be92-822f-4091-87c0-64cc131d95bf",
   "metadata": {},
   "outputs": [
    {
     "name": "stdout",
     "output_type": "stream",
     "text": [
      "{('Do', 'VB'): 14, ('you', 'PRP'): 243, ('agree', 'VB'): 2, ('with', 'IN'): 9, ('the', 'DT'): 72, ('Brexit', 'NNP'): 2, ('result', 'NN'): 2, ('Do', 'VBP'): 126, ('Who', 'WP'): 4, ('do', 'VBP'): 19, ('think', 'VB'): 69, ('will', 'MD'): 4, ('win', 'VB'): 5, ('Premier', 'NNP'): 4, ('League', 'NNP'): 4, ('this', 'DT'): 4, ('year', 'NN'): 4, (\"'cancelling\", 'VBG'): 4, ('is', 'VBZ'): 44, ('an', 'DT'): 9, ('appropriate', 'JJ'): 4, ('way', 'NN'): 5, ('to', 'TO'): 37, ('deal', 'VB'): 4, ('controversy', 'NN'): 4, ('prefer', 'VB'): 22, ('working', 'VBG'): 2, ('at', 'IN'): 12, ('office', 'NN'): 2, ('or', 'CC'): 59, ('home', 'NN'): 6, ('Do', 'NNP'): 11, ('Did', 'NNP'): 21, ('like', 'IN'): 51, ('school', 'NN'): 17, ('Would', 'MD'): 11, ('teach', 'VB'): 4, ('your', 'PRP$'): 7, ('children', 'NNS'): 4, ('content', 'NN'): 4, ('everyone', 'NN'): 4, ('has', 'VBZ'): 6, ('a', 'DT'): 48, ('responsibility', 'NN'): 4, ('recycle', 'VB'): 4, ('Is', 'NNP'): 1, ('Mo', 'NNP'): 2, ('Sallah', 'NNP'): 2, ('better', 'JJR'): 8, ('than', 'IN'): 7, ('Messi', 'NNP'): 2, ('Is', 'VBZ'): 36, ('Baseball', 'NNP'): 2, ('in', 'IN'): 19, ('Europe', 'NNP'): 2, ('underrated', 'JJ'): 1, ('underrated', 'VBD'): 1, ('Should', 'MD'): 5, ('helmet', 'NN'): 4, ('be', 'VB'): 11, ('required', 'VBN'): 4, ('for', 'IN'): 9, ('cycling', 'NN'): 4, ('by', 'IN'): 4, ('law', 'NN'): 4, ('How', 'NNP'): 4, ('old', 'JJ'): 8, ('queen', 'JJ'): 4, ('going', 'VBG'): 11, ('get', 'VB'): 4, ('James', 'NNP'): 2, ('Bond', 'NNP'): 2, ('films', 'NNS'): 4, ('Beyonce', 'NNP'): 3, ('overrated', 'VBN'): 2, ('love', 'VB'): 11, ('thunderstorms', 'NNS'): 12, ('hate', 'VB'): 13, ('them', 'PRP'): 6, ('If', 'IN'): 3, ('it', 'PRP'): 21, ('had', 'VBD'): 5, ('been', 'VBN'): 3, ('finished', 'VBN'): 3, ('would', 'MD'): 5, ('have', 'VB'): 3, ('liked', 'VBN'): 3, ('see', 'VB'): 6, ('Batgirl', 'NNP'): 6, ('ever', 'RB'): 7, ('spend', 'VBP'): 6, ('time', 'NN'): 6, ('on', 'IN'): 16, ('clubhouse', 'NN'): 4, ('Breaking', 'VBG'): 1, ('Bad', 'NNP'): 2, ('Better', 'NNP'): 2, ('call', 'NN'): 2, ('Saul', 'NNP'): 2, ('Breaking', 'NNP'): 1, ('Are', 'NNP'): 24, ('Instagram', 'NNP'): 5, ('worried', 'VBD'): 2, ('about', 'IN'): 5, ('spread', 'NN'): 3, ('of', 'IN'): 27, ('monkey', 'NN'): 3, ('pox', 'NN'): 3, ('Are', 'VBP'): 8, ('worried', 'JJ'): 1, ('Spotify', 'NNP'): 2, ('prefer', 'VBP'): 5, ('Taylor', 'NNP'): 10, ('Swift', 'NNP'): 10, (\"'s\", 'POS'): 27, ('pop', 'NN'): 10, ('music', 'NN'): 33, ('country', 'NN'): 10, ('influencer', 'NN'): 5, ('real', 'JJ'): 8, ('job', 'NN'): 8, ('Kanye', 'NNP'): 8, ('West', 'NNP'): 8, ('crazy', 'NN'): 3, ('are', 'VBP'): 12, ('beautiful', 'JJ'): 6, ('What', 'WP'): 13, ('take', 'NN'): 2, ('Joe', 'NNP'): 6, ('Biden', 'NNP'): 6, ('Bansky', 'NNP'): 7, ('art', 'NN'): 7, ('Wind', 'IN'): 2, ('Turbines', 'NNS'): 2, ('ugly', 'RB'): 2, ('Gym', 'NNP'): 3, ('enjoy', 'VB'): 11, ('cycling', 'VBG'): 7, ('university', 'VB'): 2, ('worth', 'IN'): 2, ('money', 'NN'): 2, ('fan', 'NN'): 12, ('Kate', 'NNP'): 10, ('Bush', 'NNP'): 10, ('Poetry', 'NNP'): 7, ('Gardening', 'NNP'): 2, ('find', 'VB'): 2, ('idea', 'NN'): 2, ('ghosts', 'NNS'): 2, ('scary', 'JJ'): 2, ('staying', 'VBG'): 4, ('Hotels', 'NNP'): 4, ('wind', 'IN'): 2, ('turbines', 'NNS'): 2, ('solution', 'NN'): 2, ('gas', 'NN'): 2, ('shortages', 'NNS'): 2, ('buy', 'VB'): 3, ('drone', 'NN'): 2, ('Boris', 'NNP'): 2, ('Johnson', 'NNP'): 2, ('Venus', 'NNP'): 9, ('Williams', 'NNP'): 7, ('great', 'JJ'): 7, ('tennis', 'NN'): 7, ('player', 'NN'): 7, ('sad', 'VBP'): 2, ('that', 'IN'): 12, ('Sebastian', 'JJ'): 2, ('Vettel', 'NNP'): 3, ('retiring', 'VBG'): 2, ('Wagatha', 'NNP'): 2, ('Christie', 'NNP'): 2, ('case', 'NN'): 2, ('Jennifer', 'NNP'): 7, ('Lopez', 'NNP'): 7, ('best', 'JJS'): 12, ('singer', 'NN'): 7, ('world', 'NN'): 7, ('Will', 'NNP'): 4, ('artificial', 'JJ'): 1, ('intelligence', 'NN'): 2, ('bring', 'VBG'): 2, ('more', 'JJR'): 2, ('harm', 'NN'): 2, ('good', 'JJ'): 6, ('Will', 'MD'): 1, ('artificial', 'VB'): 1, ('High', 'JJ'): 11, ('did', 'VBD'): 3, ('Does', 'VBZ'): 2, ('any', 'DT'): 3, ('house', 'NN'): 5, ('look', 'NN'): 3, ('better', 'RBR'): 3, ('plants', 'NNS'): 3, ('TikTok', 'NNP'): 5, ('eat', 'VB'): 1, ('vegan', 'JJ'): 3, ('food', 'NN'): 1, ('from', 'IN'): 3, ('BTS', 'NNP'): 3, ('comic', 'NN'): 3, ('Brad', 'NNP'): 3, ('Pitt', 'NNP'): 3, ('listen', 'VB'): 1, ('Ed', 'NNP'): 3, ('Sheeran', 'NNP'): 3, ('homeschooling', 'VBG'): 1, ('normal', 'JJ'): 1, ('schooling', 'VBG'): 1, ('private', 'JJ'): 1, ('jets', 'NNS'): 1, ('forbidden', 'VBN'): 1, ('play', 'VB'): 1, ('watch', 'VB'): 3, ('football', 'NN'): 3, ('dating', 'VBG'): 1, ('apps', 'NN'): 1, ('only', 'JJ'): 1, ('meet', 'VB'): 1, ('people', 'NNS'): 1, ('nowadays', 'NNS'): 1, ('University', 'NNP'): 1, ('education', 'NN'): 4, ('should', 'MD'): 4, ('free', 'JJ'): 1, ('too', 'RB'): 8, ('President', 'NNP'): 4, ('Spain', 'NNP'): 2, ('Italy', 'NNP'): 2, ('Which', 'NNP'): 5, ('team', 'NN'): 2, ('install', 'VB'): 2, ('solar', 'JJ'): 2, ('panels', 'NNS'): 2, ('if', 'IN'): 2, ('How', 'WRB'): 2, ('feel', 'VB'): 2, ('acting', 'VBG'): 2, ('Does', 'NNP'): 1, ('also', 'RB'): 2, ('hate', 'VBP'): 2, ('airports', 'NNS'): 2, ('cancel', 'JJ'): 2, ('culture', 'NN'): 2, ('far', 'RB'): 2, ('paid', 'JJ'): 3, ('exist', 'VB'): 3, ('dating', 'NN'): 5, ('app', 'NN'): 5, ('just', 'RB'): 9, ('me', 'PRP'): 5, ('do', 'VB'): 5, ('neck', 'DT'): 5, ('pillows', 'NNS'): 5, ('not', 'RB'): 5, ('work', 'VB'): 5, ('could', 'MD'): 5, ('survive', 'VB'): 5, ('without', 'IN'): 5, ('internet', 'NN'): 7, ('1', 'CD'): 7, ('week', 'NN'): 5, ('Banksy', 'NNP'): 5, ('cool', 'NN'): 5, ('cringey', 'NN'): 5, ('current', 'JJ'): 5, ('heat', 'NN'): 5, ('waves', 'NNS'): 5, ('because', 'IN'): 5, ('climate', 'NN'): 5, ('change', 'NN'): 5, ('Cricket', 'NNP'): 5, ('boring', 'VBG'): 5, ('like', 'VBP'): 8, ('bad', 'JJ'): 1, ('constantly', 'RB'): 1, ('stuff', 'NN'): 1, ('Amazon', 'NNP'): 1, ('Would', 'NNP'): 1, ('use', 'VBP'): 1, ('clubhouse', 'VB'): 1, ('like', 'VB'): 3, ('hotels', 'NNS'): 1, ('Airbnbs', 'NNP'): 1, ('Justin', 'NNP'): 3, ('Bieber', 'NNP'): 3, ('fans', 'NNS'): 3, ('annoying', 'VBG'): 3, ('right', 'RB'): 3, ('another', 'DT'): 5, ('title', 'NN'): 1, ('marriage', 'NN'): 1, ('important', 'JJ'): 1, ('opinion', 'NN'): 1, ('House', 'NNP'): 3, ('Music', 'NNP'): 3, ('Drum', 'NNP'): 3, ('and', 'CC'): 7, ('Bass', 'NNP'): 3, ('gardener', 'NN'): 4, ('Serena', 'NNP'): 2, ('each', 'DT'): 2, ('other', 'JJ'): 2, ('much', 'JJ'): 2, ('genre', 'NN'): 4, ('believe', 'VBP'): 1, ('Astrology', 'NNP'): 2, ('believe', 'VB'): 1, ('Cats', 'NNPS'): 2, ('Dogs', 'NNP'): 2, ('FaceTime', 'NNP'): 2, ('Donald', 'NNP'): 4, ('Trump', 'NNP'): 2, ('hair', 'NN'): 4, ('stupid', 'JJ'): 2, ('hot', 'JJ'): 2, ('weather', 'NN'): 2, ('win', 'VBP'): 2, ('next', 'JJ'): 2, ('election', 'NN'): 2, ('travelling', 'VBG'): 4, ('car', 'NN'): 6, ('train', 'NN'): 4, ('Christmas', 'NNP'): 2, ('driving', 'VBG'): 2, ('Formula', 'NNP'): 2, ('shopping', 'VBG'): 2, ('shopping', 'NN'): 2, ('foods', 'NNS'): 2, ('becoming', 'VBG'): 2, ('better', 'RB'): 1, ('try', 'VB'): 2, ('surfing', 'VBG'): 2, ('influencer', 'VBG'): 4, ('Meghan', 'NNP'): 2, ('Markle', 'NNP'): 2, ('Suits', 'NNP'): 2, ('Squid', 'NNP'): 4, ('Game', 'NNP'): 4, ('was', 'VBD'): 8, ('passing', 'VBG'): 4, ('trend', 'NN'): 4, ('sound', 'JJ'): 2, ('crickets', 'NNS'): 2, ('make', 'VBP'): 2, ('Was', 'NNP'): 2, ('Brexit', 'IN'): 2, ('right', 'JJ'): 2, ('choice', 'NN'): 2, ('Which', 'JJ'): 1, ('notice', 'VBP'): 2, ('everybody', 'NN'): 2, ('into', 'IN'): 2, ('Dungeons', 'NNS'): 2, ('Dragons', 'NNP'): 2, ('lately', 'RB'): 2, ('Who', 'NNP'): 2, ('Rupert', 'NNP'): 2, ('Grint', 'NNP'): 2, ('Disney', 'NNP'): 2}\n"
     ]
    }
   ],
   "source": [
    "#y = list(y)\n",
    "count = {}\n",
    "for x in human_tb.tags:\n",
    "    if x in count:\n",
    "        count[x] += 1\n",
    "    else: count[x] = 1\n",
    "print(count)"
   ]
  },
  {
   "cell_type": "code",
   "execution_count": 46,
   "id": "408f5d50-63a1-447c-9819-681e89c2323b",
   "metadata": {},
   "outputs": [
    {
     "name": "stdout",
     "output_type": "stream",
     "text": [
      "Ttest_1sampResult(statistic=1.770403445039846, pvalue=0.09190261729327512)\n"
     ]
    }
   ],
   "source": [
    "\n",
    "# # T-Test\n",
    "x = st.ttest_1samp(a = respondant_scores['score'], popmean = 15)\n",
    "print(x)\n"
   ]
  },
  {
   "cell_type": "code",
   "execution_count": null,
   "id": "c5368fb5-6832-4e82-a231-ad6f5d02edcc",
   "metadata": {},
   "outputs": [],
   "source": []
  }
 ],
 "metadata": {
  "kernelspec": {
   "display_name": "Python 3 (ipykernel)",
   "language": "python",
   "name": "python3"
  },
  "language_info": {
   "codemirror_mode": {
    "name": "ipython",
    "version": 3
   },
   "file_extension": ".py",
   "mimetype": "text/x-python",
   "name": "python",
   "nbconvert_exporter": "python",
   "pygments_lexer": "ipython3",
   "version": "3.8.9"
  }
 },
 "nbformat": 4,
 "nbformat_minor": 5
}
